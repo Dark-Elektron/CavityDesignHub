{
 "cells": [
  {
   "cell_type": "code",
   "execution_count": 1,
   "id": "3efd4259",
   "metadata": {},
   "outputs": [],
   "source": [
    "import sys\n",
    "sys.path.append(\"..\")\n",
    "import numpy as np\n",
    "import json\n",
    "import matplotlib.pyplot as plt\n",
    "plt.ion()\n",
    "from cavity import Cavity, Cavities, OperationPoints\n",
    "import pprint\n",
    "pp = pprint.PrettyPrinter(indent=4)"
   ]
  },
  {
   "cell_type": "code",
   "execution_count": 2,
   "id": "9bcb0037",
   "metadata": {},
   "outputs": [
    {
     "name": "stdout",
     "output_type": "stream",
     "text": [
      "{   'C3795_1300MHz': {   'BP': 'both',\n",
      "                         'FREQ': 1300,\n",
      "                         'IC': [   38.23,\n",
      "                                   35.76,\n",
      "                                   10.48,\n",
      "                                   7.4,\n",
      "                                   49.94,\n",
      "                                   57.7,\n",
      "                                   105.66,\n",
      "                                   113.76249257990644],\n",
      "                         'OC': [   38.23,\n",
      "                                   35.76,\n",
      "                                   10.48,\n",
      "                                   7.4,\n",
      "                                   49.94,\n",
      "                                   57.7,\n",
      "                                   105.66,\n",
      "                                   113.76249257990644],\n",
      "                         'OC_R': [   38.23,\n",
      "                                     35.76,\n",
      "                                     10.48,\n",
      "                                     7.4,\n",
      "                                     49.94,\n",
      "                                     57.7,\n",
      "                                     105.66,\n",
      "                                     113.76249257990644]},\n",
      "    'ERL_MA': {   'BP': 'both',\n",
      "                  'EXPANSION': [36, 36, 6, 6, 42.0, 55, 0],\n",
      "                  'FREQ': 1300,\n",
      "                  'IC': [43.99, 35.06, 12.53, 20.95, 35, 57.6524, 101.205, 0],\n",
      "                  'OC': [50.9, 45.3, 8.4, 11.5, 39, 59.988, 101.205, 0],\n",
      "                  'OC_R': [52.1, 47.9, 9.9, 11.3, 37, 62.665, 101.205, 0]},\n",
      "    'ICHIRO': {   'BP': 'both',\n",
      "                  'FREQ': 1300,\n",
      "                  'IC': [50.052, 34.222, 7.6, 9.945, 30, 57.7, 98.14, 0],\n",
      "                  'OC': [50.052, 34.222, 7.6, 9.945, 30, 57.7, 98.14, 0],\n",
      "                  'OC_R': [50.052, 34.222, 7.6, 9.945, 30, 57.7, 98.14, 0]},\n",
      "    'ILC-LL': {   'BP': 'both',\n",
      "                  'FREQ': 1300,\n",
      "                  'IC': [50.052, 36.5, 7.6, 10, 30, 57.7, 98.58, 0],\n",
      "                  'OC': [50.052, 36.5, 7.6, 10, 30, 57.7, 98.58, 0],\n",
      "                  'OC_R': [50.052, 36.5, 7.6, 10, 30, 57.7, 98.58, 0]},\n",
      "    'NLSF': {   'BP': 'both',\n",
      "                'FREQ': 1300,\n",
      "                'IC': [47.152, 31.35, 10.5, 15.5, 32, 57.7, 98.58, 0],\n",
      "                'OC': [48.152, 30.5, 9.5, 12.5, 38, 57.6988, 98.58, 0],\n",
      "                'OC_R': [48.152, 30.5, 9.5, 12.5, 38, 57.6988, 98.58, 0]},\n",
      "    'NLSF-A': {   'BP': 'both',\n",
      "                  'FREQ': 1300,\n",
      "                  'IC': [47.652, 32.91, 10.0, 15.5, 31, 57.7, 98.58, 0],\n",
      "                  'OC': [47.652, 32.91, 10.0, 15.5, 31, 57.7, 98.58, 0],\n",
      "                  'OC_R': [47.652, 32.91, 10.0, 15.5, 31, 57.7, 98.58, 0]},\n",
      "    'NLSF-RE': {   'BP': 'both',\n",
      "                   'FREQ': 1300,\n",
      "                   'IC': [49, 35.3, 10.5, 17, 32, 57.6524, 98.58, 0],\n",
      "                   'OC': [50, 35.0, 10.0, 15, 32, 57.6524, 98.58, 0],\n",
      "                   'OC_R': [50, 35.0, 10.0, 15, 32, 57.6524, 98.58, 0]},\n",
      "    'NLSF_0.8GHz': {   'BP': 'both',\n",
      "                       'FREQ': 1300,\n",
      "                       'IC': [   76.471,\n",
      "                                 50.84,\n",
      "                                 17.029,\n",
      "                                 25.138,\n",
      "                                 51.898,\n",
      "                                 93.5,\n",
      "                                 159.87675,\n",
      "                                 0.0],\n",
      "                       'OC': [   78.09,\n",
      "                                 49.465,\n",
      "                                 15.41,\n",
      "                                 20.27,\n",
      "                                 61.63,\n",
      "                                 93.58,\n",
      "                                 159.877,\n",
      "                                 0.0],\n",
      "                       'OC_R': [   78.09,\n",
      "                                   49.465,\n",
      "                                   15.41,\n",
      "                                   20.27,\n",
      "                                   61.63,\n",
      "                                   93.58,\n",
      "                                   159.877,\n",
      "                                   0.0]},\n",
      "    'NLSF_1.0GHz': {   'BP': 'both',\n",
      "                       'FREQ': 1000,\n",
      "                       'IC': [   61.2976,\n",
      "                                 40.755,\n",
      "                                 13.65,\n",
      "                                 20.15,\n",
      "                                 41.6,\n",
      "                                 75.01,\n",
      "                                 128.154,\n",
      "                                 0.0],\n",
      "                       'OC': [   62.6,\n",
      "                                 39.65,\n",
      "                                 12.35,\n",
      "                                 16.25,\n",
      "                                 49.4,\n",
      "                                 75.0,\n",
      "                                 128.154,\n",
      "                                 0.0],\n",
      "                       'OC_R': [   62.6,\n",
      "                                   39.65,\n",
      "                                   12.35,\n",
      "                                   16.25,\n",
      "                                   49.4,\n",
      "                                   75.01,\n",
      "                                   128.154,\n",
      "                                   0.0]},\n",
      "    'TESLA': {   'BP': 'both',\n",
      "                 'FREQ': 1300,\n",
      "                 'IC': [42, 42, 12, 19, 35, 57.6524, 103.353, 0],\n",
      "                 'OC': [40.34, 40.34, 10, 13.5, 39, 55.716, 103.353, 0],\n",
      "                 'OC_R': [42, 42, 9, 12.8, 39, 56.815, 103.353, 0]}}\n"
     ]
    }
   ],
   "source": [
    "# load shape space\n",
    "with open(r'D:/Dropbox/CavityDesignHub/MuCol_Study/Cavities/cavity_data_mid_end_cells.json') as f:\n",
    "    shape_space = json.load(f)\n",
    "pp.pprint(shape_space)"
   ]
  },
  {
   "cell_type": "code",
   "execution_count": 3,
   "id": "a2316795",
   "metadata": {
    "scrolled": false
   },
   "outputs": [
    {
     "data": {
      "image/png": "[encoded data removed]",
      "text/plain": [
       "<Figure size 1200x400 with 1 Axes>"
      ]
     },
     "metadata": {},
     "output_type": "display_data"
    },
    {
     "data": {
      "image/png": "[encoded data removed]",
      "text/plain": [
       "<Figure size 1200x400 with 1 Axes>"
      ]
     },
     "metadata": {},
     "output_type": "display_data"
    }
   ],
   "source": [
    "# define geometry parameters\n",
    "# midcell = np.array([42, 42, 12, 19, 35, 57.7, 103.353])\n",
    "# endcell_l = np.array([40.34, 40.34, 10, 13.5, 39, 55.716, 103.353])\n",
    "# endcell_r = np.array([42, 42, 9, 12.8, 39, 56.815, 103.353])\n",
    "\n",
    "C3795_1300MHz = shape_space['C3795_1300MHz']\n",
    "TESLA = shape_space['TESLA']\n",
    "\n",
    "# create cavity\n",
    "cav = Cavity(9, np.array(C3795_1300MHz['IC']), np.array(C3795_1300MHz['OC']), np.array(C3795_1300MHz['OC_R']), beampipe='both')\n",
    "ax = cav.plot('geometry')\n",
    "\n",
    "# create cavity\n",
    "cav1 = Cavity(9, np.array(TESLA['IC']), np.array(TESLA['OC']), np.array(TESLA['OC_R']), beampipe='both')\n",
    "# show cavity\n",
    "cav1.plot('geometry', ax)"
   ]
  },
  {
   "cell_type": "markdown",
   "id": "3d6f6a0c",
   "metadata": {},
   "source": [
    "# Create cavities object"
   ]
  },
  {
   "cell_type": "code",
   "execution_count": 4,
   "id": "b05a374c",
   "metadata": {
    "scrolled": true
   },
   "outputs": [
    {
     "name": "stdout",
     "output_type": "stream",
     "text": [
      "Help on class Cavities in module cavity:\n",
      "\n",
      "class Cavities(builtins.object)\n",
      " |  Cavities(cavities_list=None, names_list=None, save_folder='None')\n",
      " |  \n",
      " |  Cavities object is an object containing several Cavity objects.\n",
      " |  \n",
      " |  Methods defined here:\n",
      " |  \n",
      " |  __init__(self, cavities_list=None, names_list=None, save_folder='None')\n",
      " |      Constructs all the necessary attributes of the Cavity object\n",
      " |      \n",
      " |      Parameters\n",
      " |      ----------\n",
      " |      cavities_list: list, array like\n",
      " |          List containing Cavity objects.\n",
      " |      \n",
      " |      save_folder: str\n",
      " |          Folder to save generated images, latex, excel, and text files.\n",
      " |  \n",
      " |  __str__(self)\n",
      " |      Return str(self).\n",
      " |  \n",
      " |  add_cavity(self, cavs, names=None)\n",
      " |      Adds cavity to cavities\n",
      " |      Parameters\n",
      " |      ----------\n",
      " |      cav: Cavity\n",
      " |          Cavity object\n",
      " |      \n",
      " |      Returns\n",
      " |      -------\n",
      " |  \n",
      " |  compare_power(self, E_acc=None)\n",
      " |  \n",
      " |  make_excel_summary(self)\n",
      " |  \n",
      " |  make_latex_summary_tables(self)\n",
      " |  \n",
      " |  plot(self, what, ax=None)\n",
      " |  \n",
      " |  plot_axis_fields(self)\n",
      " |      Plot axis fields of cavities\n",
      " |      \n",
      " |      Returns\n",
      " |      -------\n",
      " |  \n",
      " |  plot_cavities_contour(self, opt='mid', n_cells=1)\n",
      " |      Plot geometric contour of Cavity objects\n",
      " |      \n",
      " |      Parameters\n",
      " |      ----------\n",
      " |      opt: {\"mid\", \"end\", \"all\"}\n",
      " |          Either plot contour for only mid cells or end cells or the entire cavity\n",
      " |      n_cells: int\n",
      " |          Option used only when opt is set to \"all\"\n",
      " |      \n",
      " |      Returns\n",
      " |      -------\n",
      " |  \n",
      " |  plot_compare_bar(self)\n",
      " |      Plots bar chart of power quantities of interest\n",
      " |      \n",
      " |      Returns\n",
      " |      -------\n",
      " |  \n",
      " |  plot_compare_fm_bar(self)\n",
      " |      Plot bar chart of fundamental mode quantities of interest\n",
      " |      \n",
      " |      Returns\n",
      " |      -------\n",
      " |  \n",
      " |  plot_compare_hom_bar(self, opt)\n",
      " |      Plot bar chart of higher-order mode's quantities of interest\n",
      " |      \n",
      " |      Returns\n",
      " |      -------\n",
      " |  \n",
      " |  plot_cryomodule_comparison(self)\n",
      " |      Plot cryomodule power comparison\n",
      " |      \n",
      " |      Returns\n",
      " |      -------\n",
      " |  \n",
      " |  plot_dispersion(self)\n",
      " |      Plot dispersion curve for the cavities\n",
      " |      \n",
      " |      Returns\n",
      " |      -------\n",
      " |  \n",
      " |  plot_multipac_triplot(self, folders, kind='triplot')\n",
      " |      Plot Multipac triplot\n",
      " |      \n",
      " |      Parameters\n",
      " |      ----------\n",
      " |      folders: list, array like\n",
      " |          List of folder to read multipacting results from\n",
      " |      kind\n",
      " |      \n",
      " |      Notes\n",
      " |      -----\n",
      " |      This will be changed later so that the multipac results will be in the same location as the SLANS and ABCI\n",
      " |      results\n",
      " |      \n",
      " |      Returns\n",
      " |      -------\n",
      " |  \n",
      " |  plot_power_comparison(self, fig=None, ax_list=None)\n",
      " |      Can be called using ``cavities.plot_power_comparison()``\n",
      " |      \n",
      " |      .. math::\n",
      " |      \n",
      " |         W^{3 \\beta}_{\\delta}\n",
      " |      \n",
      " |      Parameters\n",
      " |      ----------\n",
      " |      fig: matplotlib figure\n",
      " |      ax_list: list of matplotlib axes object\n",
      " |      \n",
      " |      Returns\n",
      " |      -------\n",
      " |  \n",
      " |  plot_surface_fields(self)\n",
      " |      Plot surface fields of cavities\n",
      " |      \n",
      " |      Returns\n",
      " |      -------\n",
      " |  \n",
      " |  ql_pin(self, labels, geometry, RF, QOI, Machine, p_data=None)\n",
      " |      Calculate the value of input power as a function of loaded quality factor\n",
      " |      \n",
      " |      Parameters\n",
      " |      ----------\n",
      " |      labels: list, array like\n",
      " |          Descriptive labels on matplotlib plot\n",
      " |      geometry: list, array like\n",
      " |          List of grouped geometric input parameters\n",
      " |      RF: list, array like\n",
      " |          List of grouped radio-frequency (RF) properties\n",
      " |      QOI:\n",
      " |          List of quantities of interest for cavities\n",
      " |      Machine:\n",
      " |          List of grouped machine related materials\n",
      " |      p_data:\n",
      " |      \n",
      " |      \n",
      " |      Returns\n",
      " |      -------\n",
      " |  \n",
      " |  qois(self, cavity, op_field, E_acc)\n",
      " |      Parameters\n",
      " |      ----------\n",
      " |      cavity: object\n",
      " |          Cavity object\n",
      " |      op_field: float\n",
      " |          Cavity operating field\n",
      " |      \n",
      " |      Returns\n",
      " |      -------\n",
      " |      Dictionary containing quantities of interest (normed optional).\n",
      " |  \n",
      " |  qois_fm(self)\n",
      " |      Retrieves the fundamental mode quantities of interest\n",
      " |      \n",
      " |      Returns\n",
      " |      -------\n",
      " |      Dictionary containing fundamental mode quantities of interest (normed optional).\n",
      " |  \n",
      " |  qois_hom(self, opt)\n",
      " |      Retrieves the higher-order modes quantities of interest\n",
      " |      \n",
      " |      Returns\n",
      " |      -------\n",
      " |      Dictionary containing higher-order modes quantities of interest (normed optional).\n",
      " |  \n",
      " |  remove_cavity(self, cav)\n",
      " |      Removes cavity from cavity list\n",
      " |      Parameters\n",
      " |      ----------\n",
      " |      cav: object\n",
      " |          Cavity object\n",
      " |      \n",
      " |      Returns\n",
      " |      -------\n",
      " |  \n",
      " |  run_abci(self)\n",
      " |  \n",
      " |  run_eigenmode(self, solver='SLANS', freq_shifts=0, boundary_conds=None, subdir='', UQ=False, rerun=True)\n",
      " |      Run eigenmode analysis on cavity\n",
      " |      \n",
      " |      Parameters\n",
      " |      ----------\n",
      " |      solver: {'SLANS', 'NGSolve'}\n",
      " |          Solver to be used. Native solver is still under development. Results are not as accurate as that of SLANS.\n",
      " |      freq_shifts:\n",
      " |          (List of) frequency shift. Eigenmode solver searches for eigenfrequencies around this value\n",
      " |      boundary_conds: int, list\n",
      " |          (List of) boundary condition of left and right cell/beampipe ends\n",
      " |      subdir: str\n",
      " |          Sub directory to save results to\n",
      " |      UQ: bool\n",
      " |          Used to turn on or off uncertainty quantification\n",
      " |      \n",
      " |      Returns\n",
      " |      -------\n",
      " |  \n",
      " |  run_multipacting(self)\n",
      " |  \n",
      " |  run_slans(self)\n",
      " |  \n",
      " |  run_tune(self, tune_variables, cell_types='Mid Cell', freqs=None, solvers='SLANS', proc=0, resume=False, n_cells=1, rerun=True)\n",
      " |      Tune current cavity geometries\n",
      " |      \n",
      " |      Parameters\n",
      " |      ----------\n",
      " |      n_cells: int\n",
      " |          Number of cells used for tuning.\n",
      " |      resume: bool\n",
      " |          Option to resume tuning or not. Only for shape space with multiple entries.\n",
      " |      proc: int\n",
      " |          Processor number\n",
      " |      solver: {'SLANS', 'Native'}\n",
      " |          Solver to be used. Native solver is still under development. Results are not as accurate as that of SLANS.\n",
      " |      freqs: float, list, ndarray\n",
      " |          Reference frequency or list of reference frequencies if different for each cavity in MHz\n",
      " |      cell_types: {'mid cell', 'end-mid cell', 'mid-end cell', 'single cell'}\n",
      " |          Type of cell to tune or list of type of cell to tune for the different cavities\n",
      " |      tune_variables: {'Req', 'L'}\n",
      " |          Tune variable or list of tune variables. Currently supports only the tuning of the equator radius ``Req`` and half-cell length ``L``\n",
      " |      \n",
      " |      Returns\n",
      " |      -------\n",
      " |  \n",
      " |  run_wakefield(self, MROT=2, MT=10, NFS=10000, wakelength=50, bunch_length=25, DDR_SIG=0.1, DDZ_SIG=0.1, WG_M=None, marker='', wp_dict=None, solver='ABCI', rerun=True)\n",
      " |      Run wakefield analysis on cavity\n",
      " |      \n",
      " |      Parameters\n",
      " |      ----------\n",
      " |      MROT: {0, 1}\n",
      " |          Polarisation 0 for longitudinal polarization and 1 for transversal polarization\n",
      " |      MT: int\n",
      " |          Number of time steps it takes for a beam to move from one mesh cell to the other\n",
      " |      NFS: int\n",
      " |          Number of frequency samples\n",
      " |      wakelength:\n",
      " |          Wakelength to be analysed\n",
      " |      bunch_length: float\n",
      " |          Length of the bunch\n",
      " |      DDR_SIG: float\n",
      " |          Mesh to bunch length ration in the r axis\n",
      " |      DDZ_SIG: float\n",
      " |          Mesh to bunch length ration in the z axis\n",
      " |      WG_M:\n",
      " |          For module simulation. Specifies the length of the beampipe between two cavities.\n",
      " |      marker: str\n",
      " |          Marker for the cavities. Adds this to the cavity name specified in a shape space json file\n",
      " |      wp_dict: dict\n",
      " |          Python dictionary containing relevant parameters for the wakefield analysis for a specific operating point\n",
      " |      solver: {'ABCI'}\n",
      " |          Only one solver is currently available\n",
      " |      \n",
      " |      Returns\n",
      " |      -------\n",
      " |  \n",
      " |  save(self, files_path, overwrite=False)\n",
      " |      Set folder to save cavity analysis results\n",
      " |      \n",
      " |      Parameters\n",
      " |      ----------\n",
      " |      files_path: str\n",
      " |          Save project directory\n",
      " |      \n",
      " |      Returns\n",
      " |      -------\n",
      " |  \n",
      " |  save_all_plots(self, plot_name)\n",
      " |      Save all plots\n",
      " |      Parameters\n",
      " |      ----------\n",
      " |      plot_name: str\n",
      " |          Name of saved plot\n",
      " |      \n",
      " |      Returns\n",
      " |      -------\n",
      " |  \n",
      " |  set_cavities_field(self)\n",
      " |      Sets cavities analysis field range.\n",
      " |      \n",
      " |      Returns\n",
      " |      -------\n",
      " |  \n",
      " |  set_name(self, name)\n",
      " |      Set cavity name\n",
      " |      \n",
      " |      Parameters\n",
      " |      ----------\n",
      " |      name: str\n",
      " |          Name of cavity\n",
      " |      \n",
      " |      Returns\n",
      " |      -------\n",
      " |  \n",
      " |  write_contour(self, cav, opt='mid', n_cells=1)\n",
      " |      Write geometric contour for cavities\n",
      " |      \n",
      " |      Parameters\n",
      " |      ----------\n",
      " |      cav: Cavity object\n",
      " |          Cavity object\n",
      " |      opt: str\n",
      " |      \n",
      " |      n_cells: int\n",
      " |          Number of cavity cells\n",
      " |      \n",
      " |      Returns\n",
      " |      -------\n",
      " |  \n",
      " |  ----------------------------------------------------------------------\n",
      " |  Static methods defined here:\n",
      " |  \n",
      " |  arcTo(x_center, y_center, a, b, step, start, end)\n",
      " |  \n",
      " |  arcTo2(x_center, y_center, a, b, step, start_angle, end_angle)\n",
      " |  \n",
      " |  lineTo(prevPt, nextPt, step)\n",
      " |  \n",
      " |  linspace(start, stop, step=1.0)\n",
      " |      Like np.linspace but uses step instead of num\n",
      " |      This is inclusive to stop, so if start=1, stop=3, step=0.5\n",
      " |      Output is: array([1., 1.5, 2., 2.5, 3.])\n",
      " |  \n",
      " |  ----------------------------------------------------------------------\n",
      " |  Data descriptors defined here:\n",
      " |  \n",
      " |  __dict__\n",
      " |      dictionary for instance variables (if defined)\n",
      " |  \n",
      " |  __weakref__\n",
      " |      list of weak references to the object (if defined)\n",
      "\n"
     ]
    }
   ],
   "source": [
    "help(Cavities)"
   ]
  },
  {
   "cell_type": "code",
   "execution_count": 5,
   "id": "8e353134",
   "metadata": {},
   "outputs": [
    {
     "name": "stdout",
     "output_type": "stream",
     "text": [
      "\u001b[32m('Project created successfully/already exists. You can proceed with analysis.',)\u001b[0m\n"
     ]
    }
   ],
   "source": [
    "cavs = Cavities([])\n",
    "# must first save cavities\n",
    "cavs.save(files_path='D:\\Dropbox\\CavityDesignHub\\MuCol_Study\\SimulationData\\ConsoleTest')"
   ]
  },
  {
   "cell_type": "markdown",
   "id": "50e18492",
   "metadata": {},
   "source": [
    "# Add cavity(ies)\n"
   ]
  },
  {
   "cell_type": "code",
   "execution_count": 6,
   "id": "e1382b85",
   "metadata": {},
   "outputs": [],
   "source": [
    "cavs.add_cavity([cav, cav1], ['C3795_1300MHz', 'TESLA'])"
   ]
  },
  {
   "cell_type": "markdown",
   "id": "657736ec",
   "metadata": {},
   "source": [
    "# Tune cavities"
   ]
  },
  {
   "cell_type": "code",
   "execution_count": 7,
   "id": "a7563909",
   "metadata": {
    "scrolled": true
   },
   "outputs": [
    {
     "name": "stdout",
     "output_type": "stream",
     "text": [
      "Help on method run_tune in module cavity:\n",
      "\n",
      "run_tune(tune_variables, cell_types='Mid Cell', freqs=None, solvers='SLANS', proc=0, resume=False, n_cells=1, rerun=True) method of cavity.Cavities instance\n",
      "    Tune current cavity geometries\n",
      "    \n",
      "    Parameters\n",
      "    ----------\n",
      "    n_cells: int\n",
      "        Number of cells used for tuning.\n",
      "    resume: bool\n",
      "        Option to resume tuning or not. Only for shape space with multiple entries.\n",
      "    proc: int\n",
      "        Processor number\n",
      "    solver: {'SLANS', 'Native'}\n",
      "        Solver to be used. Native solver is still under development. Results are not as accurate as that of SLANS.\n",
      "    freqs: float, list, ndarray\n",
      "        Reference frequency or list of reference frequencies if different for each cavity in MHz\n",
      "    cell_types: {'mid cell', 'end-mid cell', 'mid-end cell', 'single cell'}\n",
      "        Type of cell to tune or list of type of cell to tune for the different cavities\n",
      "    tune_variables: {'Req', 'L'}\n",
      "        Tune variable or list of tune variables. Currently supports only the tuning of the equator radius ``Req`` and half-cell length ``L``\n",
      "    \n",
      "    Returns\n",
      "    -------\n",
      "\n"
     ]
    }
   ],
   "source": [
    "help(cavs.run_tune)"
   ]
  },
  {
   "cell_type": "code",
   "execution_count": 8,
   "id": "ab866f99",
   "metadata": {},
   "outputs": [
    {
     "data": {
      "application/vnd.jupyter.widget-view+json": {
       "model_id": "13632411d780492f8bb04e380bb659ba",
       "version_major": 2,
       "version_minor": 0
      },
      "text/plain": [
       "  0%|          | 0/2 [00:00<?, ?it/s]"
      ]
     },
     "metadata": {},
     "output_type": "display_data"
    },
    {
     "data": {
      "application/vnd.jupyter.widget-view+json": {
       "model_id": "b9052ca2149b4c09a8eaff1e9a45ada5",
       "version_major": 2,
       "version_minor": 0
      },
      "text/plain": [
       "  0%|          | 0/1 [00:00<?, ?it/s]"
      ]
     },
     "metadata": {},
     "output_type": "display_data"
    },
    {
     "name": "stdout",
     "output_type": "stream",
     "text": [
      "Done Tuning Cavity C3795_1300MHz: Success: (1300, 1300.0)\n",
      "Processor 0 runtime: 11.669415950775146\n"
     ]
    },
    {
     "data": {
      "application/vnd.jupyter.widget-view+json": {
       "model_id": "8fce9e09547e433995d5596fd95dff65",
       "version_major": 2,
       "version_minor": 0
      },
      "text/plain": [
       "  0%|          | 0/1 [00:00<?, ?it/s]"
      ]
     },
     "metadata": {},
     "output_type": "display_data"
    },
    {
     "name": "stdout",
     "output_type": "stream",
     "text": [
      "Done Tuning Cavity TESLA: Success: (1300, 1300.0)\n",
      "Processor 0 runtime: 9.256469011306763\n",
      "{   'C3795_1300MHz': {   'L': 57.7,\n",
      "                         'Req': 108.94352117946221,\n",
      "                         'alpha_i': 111.23373752785915,\n",
      "                         'alpha_o': 111.23373752785915,\n",
      "                         'freq': 1300.0},\n",
      "    'TESLA': {   'L': 57.6524,\n",
      "                 'Req': 103.35414205663352,\n",
      "                 'alpha_i': 103.1698581885549,\n",
      "                 'alpha_o': 103.1698581885549,\n",
      "                 'freq': 1300.0}}\n"
     ]
    }
   ],
   "source": [
    "cavs.run_tune('Req', freqs=1300, rerun=False)\n",
    "pp.pprint(cavs.eigenmode_tune_res)"
   ]
  },
  {
   "cell_type": "markdown",
   "id": "7cda10ef",
   "metadata": {},
   "source": [
    "# Run eigenmode analysis"
   ]
  },
  {
   "cell_type": "code",
   "execution_count": 9,
   "id": "80b5b0cd",
   "metadata": {
    "scrolled": true
   },
   "outputs": [
    {
     "name": "stdout",
     "output_type": "stream",
     "text": [
      "Help on method run_eigenmode in module cavity:\n",
      "\n",
      "run_eigenmode(solver='SLANS', freq_shifts=0, boundary_conds=None, subdir='', UQ=False, rerun=True) method of cavity.Cavities instance\n",
      "    Run eigenmode analysis on cavity\n",
      "    \n",
      "    Parameters\n",
      "    ----------\n",
      "    solver: {'SLANS', 'NGSolve'}\n",
      "        Solver to be used. Native solver is still under development. Results are not as accurate as that of SLANS.\n",
      "    freq_shifts:\n",
      "        (List of) frequency shift. Eigenmode solver searches for eigenfrequencies around this value\n",
      "    boundary_conds: int, list\n",
      "        (List of) boundary condition of left and right cell/beampipe ends\n",
      "    subdir: str\n",
      "        Sub directory to save results to\n",
      "    UQ: bool\n",
      "        Used to turn on or off uncertainty quantification\n",
      "    \n",
      "    Returns\n",
      "    -------\n",
      "\n"
     ]
    }
   ],
   "source": [
    "help(cavs.run_eigenmode)"
   ]
  },
  {
   "cell_type": "code",
   "execution_count": 10,
   "id": "be5ab241",
   "metadata": {
    "scrolled": true
   },
   "outputs": [
    {
     "data": {
      "application/vnd.jupyter.widget-view+json": {
       "model_id": "1fe01fe8fcb7430bb838c49b94a6358b",
       "version_major": 2,
       "version_minor": 0
      },
      "text/plain": [
       "  0%|          | 0/2 [00:00<?, ?it/s]"
      ]
     },
     "metadata": {},
     "output_type": "display_data"
    },
    {
     "data": {
      "application/vnd.jupyter.widget-view+json": {
       "model_id": "f669dec84b0b4a39925b5e1f99f0cbff",
       "version_major": 2,
       "version_minor": 0
      },
      "text/plain": [
       "  0%|          | 0/1 [00:00<?, ?it/s]"
      ]
     },
     "metadata": {},
     "output_type": "display_data"
    },
    {
     "name": "stdout",
     "output_type": "stream",
     "text": [
      "\u001b[32m('Done with Cavity C3795_1300MHz. Time: 12.269337892532349',)\u001b[0m\n"
     ]
    },
    {
     "data": {
      "application/vnd.jupyter.widget-view+json": {
       "model_id": "047c88a498184b948d7b95566864f010",
       "version_major": 2,
       "version_minor": 0
      },
      "text/plain": [
       "  0%|          | 0/1 [00:00<?, ?it/s]"
      ]
     },
     "metadata": {},
     "output_type": "display_data"
    },
    {
     "name": "stdout",
     "output_type": "stream",
     "text": [
      "\u001b[32m('Done with Cavity TESLA. Time: 11.178086519241333',)\u001b[0m\n",
      "{   'C3795_1300MHz': {   'Bpk [mT]': 8.276355204329615e-05,\n",
      "                         'Bpk/Eacc [mT/MV/m]': 7.2747011862063,\n",
      "                         'Eacc [MV/m]': 1.1376900566063895e-05,\n",
      "                         'Epk [MV/m]': 4.270822513903627e-05,\n",
      "                         'Epk/Eacc []': 3.753942024107202,\n",
      "                         'G [Ohm]': 281.28757420904304,\n",
      "                         'GR/Q [Ohm^2]': 173038.49127247377,\n",
      "                         'Hpk [A/m]': 0.06586114207766958,\n",
      "                         'N Cells': 9,\n",
      "                         'Normalization Length [mm]': 115.4,\n",
      "                         'Q []': 30328.915731160254,\n",
      "                         'R/Q [Ohm]': 615.1657845500051,\n",
      "                         'Req [mm]': 108.94352117946221,\n",
      "                         'Rsh [MOhm]': 18.657311240310186,\n",
      "                         'Vacc [MV]': 1.181604892791396e-05,\n",
      "                         'ff [%]': 1.2983794801174287,\n",
      "                         'freq [MHz]': 1298.595368844168,\n",
      "                         'kcc [%]': 5.5221481107321955},\n",
      "    'TESLA': {   'Bpk [mT]': 6.253827889229594e-05,\n",
      "                 'Bpk/Eacc [mT/MV/m]': 4.278126204597632,\n",
      "                 'Eacc [MV/m]': 1.4618147268560493e-05,\n",
      "                 'Epk [MV/m]': 3.0615228947547516e-05,\n",
      "                 'Epk/Eacc []': 2.0943303132122786,\n",
      "                 'G [Ohm]': 282.99526391090933,\n",
      "                 'GR/Q [Ohm^2]': 286533.59867077996,\n",
      "                 'Hpk [A/m]': 0.0497663810908422,\n",
      "                 'N Cells': 9,\n",
      "                 'Normalization Length [mm]': 115.3048,\n",
      "                 'Q []': 30491.421542539858,\n",
      "                 'R/Q [Ohm]': 1012.5031589256015,\n",
      "                 'Req [mm]': 103.35414205663352,\n",
      "                 'Rsh [MOhm]': 30.872660631953742,\n",
      "                 'Vacc [MV]': 1.5169882924547225e-05,\n",
      "                 'ff [%]': 97.5042396099052,\n",
      "                 'freq [MHz]': 1300.437587207918,\n",
      "                 'kcc [%]': 1.8387764118451235}}\n"
     ]
    }
   ],
   "source": [
    "cavs.run_eigenmode('ngsolve', rerun=False)\n",
    "pp.pprint(cavs.eigenmode_qois)"
   ]
  },
  {
   "cell_type": "code",
   "execution_count": 11,
   "id": "c80ee7d7",
   "metadata": {
    "scrolled": false
   },
   "outputs": [
    {
     "data": {
      "image/png": "[encoded data removed]",
      "text/plain": [
       "<Figure size 1200x300 with 1 Axes>"
      ]
     },
     "metadata": {},
     "output_type": "display_data"
    }
   ],
   "source": [
    "cavs.plot_compare_fm_bar()"
   ]
  },
  {
   "cell_type": "markdown",
   "id": "b9d9b1d2",
   "metadata": {},
   "source": [
    "# Run wakefield analysis"
   ]
  },
  {
   "cell_type": "code",
   "execution_count": 12,
   "id": "80332e8f",
   "metadata": {
    "scrolled": true
   },
   "outputs": [
    {
     "name": "stdout",
     "output_type": "stream",
     "text": [
      "Help on method run_wakefield in module cavity:\n",
      "\n",
      "run_wakefield(MROT=2, MT=10, NFS=10000, wakelength=50, bunch_length=25, DDR_SIG=0.1, DDZ_SIG=0.1, WG_M=None, marker='', wp_dict=None, solver='ABCI', rerun=True) method of cavity.Cavities instance\n",
      "    Run wakefield analysis on cavity\n",
      "    \n",
      "    Parameters\n",
      "    ----------\n",
      "    MROT: {0, 1}\n",
      "        Polarisation 0 for longitudinal polarization and 1 for transversal polarization\n",
      "    MT: int\n",
      "        Number of time steps it takes for a beam to move from one mesh cell to the other\n",
      "    NFS: int\n",
      "        Number of frequency samples\n",
      "    wakelength:\n",
      "        Wakelength to be analysed\n",
      "    bunch_length: float\n",
      "        Length of the bunch\n",
      "    DDR_SIG: float\n",
      "        Mesh to bunch length ration in the r axis\n",
      "    DDZ_SIG: float\n",
      "        Mesh to bunch length ration in the z axis\n",
      "    WG_M:\n",
      "        For module simulation. Specifies the length of the beampipe between two cavities.\n",
      "    marker: str\n",
      "        Marker for the cavities. Adds this to the cavity name specified in a shape space json file\n",
      "    wp_dict: dict\n",
      "        Python dictionary containing relevant parameters for the wakefield analysis for a specific operating point\n",
      "    solver: {'ABCI'}\n",
      "        Only one solver is currently available\n",
      "    \n",
      "    Returns\n",
      "    -------\n",
      "\n"
     ]
    }
   ],
   "source": [
    "help(cavs.run_wakefield)"
   ]
  },
  {
   "cell_type": "code",
   "execution_count": 13,
   "id": "c42d2824",
   "metadata": {},
   "outputs": [],
   "source": [
    "# cavs.run_wakefield(bunch_length=50)"
   ]
  },
  {
   "cell_type": "markdown",
   "id": "231f1177",
   "metadata": {},
   "source": [
    "# Run wakefield for operating points"
   ]
  },
  {
   "cell_type": "code",
   "execution_count": 14,
   "id": "7cafea6a",
   "metadata": {
    "scrolled": true
   },
   "outputs": [
    {
     "name": "stdout",
     "output_type": "stream",
     "text": [
      "{   'E [GeV]': 80,\n",
      "    'Eacc [MV/m]': 10.61,\n",
      "    'I0 [mA]': 135,\n",
      "    'N_c []': 132,\n",
      "    'Nb [1e11]': 2.29,\n",
      "    'T [K]': 4.5,\n",
      "    'V [GV]': 1.0,\n",
      "    'alpha_p [1e-5]': 2.85,\n",
      "    'beta_xy [m]': 50,\n",
      "    'f_rev [kHz]': 3.07,\n",
      "    'freq [MHz]': 400.79,\n",
      "    'nu_s []': 0.0801,\n",
      "    'sigma_BS [mm]': 7.02,\n",
      "    'sigma_SR [mm]': 3.55,\n",
      "    'tau_xy [ms]': 131.98,\n",
      "    'tau_z [ms]': 65.99}\n"
     ]
    },
    {
     "data": {
      "application/vnd.jupyter.widget-view+json": {
       "model_id": "010ad380d0d94927ac3f9cd5cd93b223",
       "version_major": 2,
       "version_minor": 0
      },
      "text/plain": [
       "  0%|          | 0/2 [00:00<?, ?it/s]"
      ]
     },
     "metadata": {},
     "output_type": "display_data"
    },
    {
     "data": {
      "application/vnd.jupyter.widget-view+json": {
       "model_id": "84658e98223540aa9cd7040c696f3378",
       "version_major": 2,
       "version_minor": 0
      },
      "text/plain": [
       "  0%|          | 0/2 [00:00<?, ?it/s]"
      ]
     },
     "metadata": {},
     "output_type": "display_data"
    },
    {
     "name": "stdout",
     "output_type": "stream",
     "text": [
      "\u001b[32m('Cavity C3795_1300MHz. Time: 112.10047554969788',)\u001b[0m\n"
     ]
    },
    {
     "data": {
      "application/vnd.jupyter.widget-view+json": {
       "model_id": "c526b2c81a724d6f9c92ba05518ba0bd",
       "version_major": 2,
       "version_minor": 0
      },
      "text/plain": [
       "  0%|          | 0/2 [00:00<?, ?it/s]"
      ]
     },
     "metadata": {},
     "output_type": "display_data"
    },
    {
     "name": "stdout",
     "output_type": "stream",
     "text": [
      "\u001b[34m('Running wakefield analysis for given operating points.',)\u001b[0m\n",
      "At least it got here\n",
      "At least it got here\n",
      "At least it got here\n",
      "At least it got here\n",
      "\u001b[34m('Running wakefield analysis for given operating points.',)\u001b[0m\n",
      "At least it got here\n",
      "At least it got here\n",
      "At least it got here\n",
      "At least it got here\n",
      "\u001b[32m('Done with the secondary analysis for working points',)\u001b[0m\n"
     ]
    },
    {
     "name": "stderr",
     "output_type": "stream",
     "text": [
      "ic| self.folder: WindowsPath('D:/Dropbox/CavityDesignHub/MuCol_Study/SimulationData/ConsoleTest/cavities')\n"
     ]
    },
    {
     "name": "stdout",
     "output_type": "stream",
     "text": [
      "At least it got here\n",
      "At least it got here\n"
     ]
    },
    {
     "data": {
      "application/vnd.jupyter.widget-view+json": {
       "model_id": "9bec899bd6fe45bda364944ed9b6f63e",
       "version_major": 2,
       "version_minor": 0
      },
      "text/plain": [
       "  0%|          | 0/2 [00:00<?, ?it/s]"
      ]
     },
     "metadata": {},
     "output_type": "display_data"
    },
    {
     "name": "stdout",
     "output_type": "stream",
     "text": [
      "\u001b[32m('Cavity TESLA. Time: 112.3999433517456',)\u001b[0m\n"
     ]
    },
    {
     "data": {
      "application/vnd.jupyter.widget-view+json": {
       "model_id": "fc4672326b0040909cb375a5c75dc0f0",
       "version_major": 2,
       "version_minor": 0
      },
      "text/plain": [
       "  0%|          | 0/2 [00:00<?, ?it/s]"
      ]
     },
     "metadata": {},
     "output_type": "display_data"
    },
    {
     "name": "stdout",
     "output_type": "stream",
     "text": [
      "\u001b[34m('Running wakefield analysis for given operating points.',)\u001b[0m\n",
      "At least it got here\n",
      "At least it got here\n",
      "At least it got here\n",
      "At least it got here\n",
      "\u001b[34m('Running wakefield analysis for given operating points.',)\u001b[0m\n",
      "At least it got here\n",
      "At least it got here\n"
     ]
    },
    {
     "name": "stderr",
     "output_type": "stream",
     "text": [
      "ic| self.folder: WindowsPath('D:/Dropbox/CavityDesignHub/MuCol_Study/SimulationData/ConsoleTest/cavities')\n"
     ]
    },
    {
     "name": "stdout",
     "output_type": "stream",
     "text": [
      "At least it got here\n",
      "At least it got here\n",
      "\u001b[32m('Done with the secondary analysis for working points',)\u001b[0m\n",
      "At least it got here\n",
      "At least it got here\n"
     ]
    }
   ],
   "source": [
    "op_points = OperationPoints()\n",
    "op_points.get_default_operation_points()\n",
    "pp.pprint(op_points.op_points['W_2023'])\n",
    "cavs.run_wakefield(wp_dict={'Z_2023': op_points.op_points['Z_2023'], 'W_2023': op_points.op_points['W_2023']}, rerun=False)"
   ]
  },
  {
   "cell_type": "code",
   "execution_count": 15,
   "id": "61f3c0c1",
   "metadata": {
    "scrolled": true
   },
   "outputs": [
    {
     "name": "stdout",
     "output_type": "stream",
     "text": [
      "{   'C3795_1300MHz': {   'W_2023_BS_7.02mm': {   'I0 [mA]': 135.0,\n",
      "                                                 'Nb [1e11]': 2.29,\n",
      "                                                 'P_HOM [kW]': 8.118014123654012,\n",
      "                                                 'R/Q [Ohm]': 615.1657845500051,\n",
      "                                                 'k_FM [V/pC]': 1.209852483713244,\n",
      "                                                 'n cell': 9,\n",
      "                                                 'sigma_z [mm]': 7.02,\n",
      "                                                 '|k_kick| [V/pC/m]': 16.31,\n",
      "                                                 '|k_loss| [V/pC]': 2.849},\n",
      "                         'W_2023_SR_3.55mm': {   'I0 [mA]': 135.0,\n",
      "                                                 'Nb [1e11]': 2.29,\n",
      "                                                 'P_HOM [kW]': 12.529176605460064,\n",
      "                                                 'R/Q [Ohm]': 615.1657845500051,\n",
      "                                                 'k_FM [V/pC]': 1.2431733205763418,\n",
      "                                                 'n cell': 9,\n",
      "                                                 'sigma_z [mm]': 3.55,\n",
      "                                                 '|k_kick| [V/pC/m]': 12.13,\n",
      "                                                 '|k_loss| [V/pC]': 3.773},\n",
      "                         'Z_2023_BS_15.2mm': {   'I0 [mA]': 1280.0,\n",
      "                                                 'Nb [1e11]': 2.76,\n",
      "                                                 'P_HOM [kW]': 40.44019869908093,\n",
      "                                                 'R/Q [Ohm]': 615.1657845500051,\n",
      "                                                 'k_FM [V/pC]': 1.0574514910334687,\n",
      "                                                 'n cell': 9,\n",
      "                                                 'sigma_z [mm]': 15.2,\n",
      "                                                 '|k_kick| [V/pC/m]': 19.99,\n",
      "                                                 '|k_loss| [V/pC]': 1.772},\n",
      "                         'Z_2023_SR_4.32mm': {   'I0 [mA]': 1280.0,\n",
      "                                                 'Nb [1e11]': 2.76,\n",
      "                                                 'P_HOM [kW]': 128.0978464248287,\n",
      "                                                 'R/Q [Ohm]': 615.1657845500051,\n",
      "                                                 'k_FM [V/pC]': 1.2376054542465618,\n",
      "                                                 'n cell': 9,\n",
      "                                                 'sigma_z [mm]': 4.32,\n",
      "                                                 '|k_kick| [V/pC/m]': 13.24,\n",
      "                                                 '|k_loss| [V/pC]': 3.501}},\n",
      "    'TESLA': {   'W_2023_BS_7.02mm': {   'I0 [mA]': 135.0,\n",
      "                                         'Nb [1e11]': 2.29,\n",
      "                                         'P_HOM [kW]': 11.58449790814961,\n",
      "                                         'R/Q [Ohm]': 1012.5031589256015,\n",
      "                                         'k_FM [V/pC]': 1.9939179678261607,\n",
      "                                         'n cell': 9,\n",
      "                                         'sigma_z [mm]': 7.02,\n",
      "                                         '|k_kick| [V/pC/m]': 41.75,\n",
      "                                         '|k_loss| [V/pC]': 4.333},\n",
      "                 'W_2023_SR_3.55mm': {   'I0 [mA]': 135.0,\n",
      "                                         'Nb [1e11]': 2.29,\n",
      "                                         'P_HOM [kW]': 19.7757085343166,\n",
      "                                         'R/Q [Ohm]': 1012.5031589256015,\n",
      "                                         'k_FM [V/pC]': 2.0489909915055238,\n",
      "                                         'n cell': 9,\n",
      "                                         'sigma_z [mm]': 3.55,\n",
      "                                         '|k_kick| [V/pC/m]': 32.62,\n",
      "                                         '|k_loss| [V/pC]': 6.042},\n",
      "                 'Z_2023_BS_15.2mm': {   'I0 [mA]': 1280.0,\n",
      "                                         'Nb [1e11]': 2.76,\n",
      "                                         'P_HOM [kW]': 48.66729017024948,\n",
      "                                         'R/Q [Ohm]': 1012.5031589256015,\n",
      "                                         'k_FM [V/pC]': 1.7420848476201076,\n",
      "                                         'n cell': 9,\n",
      "                                         'sigma_z [mm]': 15.2,\n",
      "                                         '|k_kick| [V/pC/m]': 48.14,\n",
      "                                         '|k_loss| [V/pC]': 2.602},\n",
      "                 'Z_2023_SR_4.32mm': {   'I0 [mA]': 1280.0,\n",
      "                                         'Nb [1e11]': 2.76,\n",
      "                                         'P_HOM [kW]': 198.5488539382584,\n",
      "                                         'R/Q [Ohm]': 1012.5031589256015,\n",
      "                                         'k_FM [V/pC]': 2.0397880697302204,\n",
      "                                         'n cell': 9,\n",
      "                                         'sigma_z [mm]': 4.32,\n",
      "                                         '|k_kick| [V/pC/m]': 35.49,\n",
      "                                         '|k_loss| [V/pC]': 5.548}}}\n"
     ]
    }
   ],
   "source": [
    "pp.pprint(cavs.abci_qois)"
   ]
  },
  {
   "cell_type": "code",
   "execution_count": 16,
   "id": "85a76ae2",
   "metadata": {},
   "outputs": [
    {
     "data": {
      "text/plain": [
       "dict_keys(['Cavity Shape Input', 'Wake Potentials', 'Real Part of Longitudinal Impedance', 'Imaginary Part of Longitudinal Impedance', 'Frequency Spectrum of Loss Factor', 'Loss Factor Spectrum Integrated upto F', 'Longitudinal Impedance Magnitude'])"
      ]
     },
     "execution_count": 16,
     "metadata": {},
     "output_type": "execute_result"
    }
   ],
   "source": [
    "cavs.cavities_list[0].abci_data['Long'].data_dict.keys()"
   ]
  },
  {
   "cell_type": "code",
   "execution_count": 17,
   "id": "5ac26388",
   "metadata": {
    "scrolled": true
   },
   "outputs": [
    {
     "data": {
      "image/png": "[encoded data removed]",
      "text/plain": [
       "<Figure size 1200x400 with 1 Axes>"
      ]
     },
     "metadata": {},
     "output_type": "display_data"
    }
   ],
   "source": [
    "ax = cavs.plot('ZL')\n",
    "cavs.plot('ZT', ax)\n",
    "ax.set_yscale('log')"
   ]
  },
  {
   "cell_type": "code",
   "execution_count": 18,
   "id": "db9c2099",
   "metadata": {},
   "outputs": [
    {
     "name": "stderr",
     "output_type": "stream",
     "text": [
      "ic| results: [{'$P_\\\\mathrm{HOM}/cav \\\\mathrm{[kW]}$': 128.0978464248287,\n",
      "               '$|k_\\\\parallel| \\\\mathrm{[V/pC]}$': 3.501,\n",
      "               '$|k_\\\\perp| \\\\mathrm{[V/pC/m]}$': 13.24},\n",
      "              {'$P_\\\\mathrm{HOM}/cav \\\\mathrm{[kW]}$': 198.5488539382584,\n",
      "               '$|k_\\\\parallel| \\\\mathrm{[V/pC]}$': 5.548,\n",
      "               '$|k_\\\\perp| \\\\mathrm{[V/pC/m]}$': 35.49}]\n"
     ]
    },
    {
     "name": "stdout",
     "output_type": "stream",
     "text": [
      "{   'W_2023_BS_7.02mm': {   'I0 [mA]': 135.0,\n",
      "                            'Nb [1e11]': 2.29,\n",
      "                            'P_HOM [kW]': 8.118014123654012,\n",
      "                            'R/Q [Ohm]': 615.1657845500051,\n",
      "                            'k_FM [V/pC]': 1.209852483713244,\n",
      "                            'n cell': 9,\n",
      "                            'sigma_z [mm]': 7.02,\n",
      "                            '|k_kick| [V/pC/m]': 16.31,\n",
      "                            '|k_loss| [V/pC]': 2.849},\n",
      "    'W_2023_SR_3.55mm': {   'I0 [mA]': 135.0,\n",
      "                            'Nb [1e11]': 2.29,\n",
      "                            'P_HOM [kW]': 12.529176605460064,\n",
      "                            'R/Q [Ohm]': 615.1657845500051,\n",
      "                            'k_FM [V/pC]': 1.2431733205763418,\n",
      "                            'n cell': 9,\n",
      "                            'sigma_z [mm]': 3.55,\n",
      "                            '|k_kick| [V/pC/m]': 12.13,\n",
      "                            '|k_loss| [V/pC]': 3.773},\n",
      "    'Z_2023_BS_15.2mm': {   'I0 [mA]': 1280.0,\n",
      "                            'Nb [1e11]': 2.76,\n",
      "                            'P_HOM [kW]': 40.44019869908093,\n",
      "                            'R/Q [Ohm]': 615.1657845500051,\n",
      "                            'k_FM [V/pC]': 1.0574514910334687,\n",
      "                            'n cell': 9,\n",
      "                            'sigma_z [mm]': 15.2,\n",
      "                            '|k_kick| [V/pC/m]': 19.99,\n",
      "                            '|k_loss| [V/pC]': 1.772},\n",
      "    'Z_2023_SR_4.32mm': {   'I0 [mA]': 1280.0,\n",
      "                            'Nb [1e11]': 2.76,\n",
      "                            'P_HOM [kW]': 128.0978464248287,\n",
      "                            'R/Q [Ohm]': 615.1657845500051,\n",
      "                            'k_FM [V/pC]': 1.2376054542465618,\n",
      "                            'n cell': 9,\n",
      "                            'sigma_z [mm]': 4.32,\n",
      "                            '|k_kick| [V/pC/m]': 13.24,\n",
      "                            '|k_loss| [V/pC]': 3.501}}\n",
      "<class 'numpy.ndarray'> <class 'int'> <class 'float'> <class 'numpy.ndarray'> [[  3.501       13.24       128.09784642]\n",
      " [  5.548       35.49       198.54885394]]\n",
      "<class 'numpy.ndarray'> <class 'int'> <class 'float'> <class 'numpy.ndarray'> [[  3.501       13.24       128.09784642]\n",
      " [  5.548       35.49       198.54885394]]\n"
     ]
    },
    {
     "data": {
      "image/png": "[encoded data removed]",
      "text/plain": [
       "<Figure size 1200x300 with 1 Axes>"
      ]
     },
     "metadata": {},
     "output_type": "display_data"
    }
   ],
   "source": [
    "cav.get_abci_qois()\n",
    "pp.pprint(cav.abci_qois)\n",
    "cavs.plot_compare_hom_bar('Z_2023_SR_4.32mm')"
   ]
  },
  {
   "cell_type": "code",
   "execution_count": 19,
   "id": "ad92770c",
   "metadata": {},
   "outputs": [
    {
     "name": "stderr",
     "output_type": "stream",
     "text": [
      "ic| results: [{'$P_\\\\mathrm{HOM}/cav \\\\mathrm{[kW]}$': 40.44019869908093,\n",
      "               '$|k_\\\\parallel| \\\\mathrm{[V/pC]}$': 1.772,\n",
      "               '$|k_\\\\perp| \\\\mathrm{[V/pC/m]}$': 19.99},\n",
      "              {'$P_\\\\mathrm{HOM}/cav \\\\mathrm{[kW]}$': 48.66729017024948,\n",
      "               '$|k_\\\\parallel| \\\\mathrm{[V/pC]}$': 2.602,\n",
      "               '$|k_\\\\perp| \\\\mathrm{[V/pC/m]}$': 48.14}]\n"
     ]
    },
    {
     "name": "stdout",
     "output_type": "stream",
     "text": [
      "<class 'numpy.ndarray'> <class 'int'> <class 'float'> <class 'numpy.ndarray'> [[ 1.772      19.99       40.4401987 ]\n",
      " [ 2.602      48.14       48.66729017]]\n",
      "<class 'numpy.ndarray'> <class 'int'> <class 'float'> <class 'numpy.ndarray'> [[ 1.772      19.99       40.4401987 ]\n",
      " [ 2.602      48.14       48.66729017]]\n"
     ]
    },
    {
     "data": {
      "image/png": "[encoded data removed]",
      "text/plain": [
       "<Figure size 1200x300 with 1 Axes>"
      ]
     },
     "metadata": {},
     "output_type": "display_data"
    }
   ],
   "source": [
    "\n",
    "cavs.plot_compare_hom_bar('Z_2023_BS_15.2mm')"
   ]
  }
 ],
 "metadata": {
  "kernelspec": {
   "display_name": "Python 3 (ipykernel)",
   "language": "python",
   "name": "python3"
  },
  "language_info": {
   "codemirror_mode": {
    "name": "ipython",
    "version": 3
   },
   "file_extension": ".py",
   "mimetype": "text/x-python",
   "name": "python",
   "nbconvert_exporter": "python",
   "pygments_lexer": "ipython3",
   "version": "3.10.6"
  },
  "toc": {
   "base_numbering": 1,
   "nav_menu": {},
   "number_sections": true,
   "sideBar": true,
   "skip_h1_title": false,
   "title_cell": "Table of Contents",
   "title_sidebar": "Contents",
   "toc_cell": false,
   "toc_position": {},
   "toc_section_display": true,
   "toc_window_display": false
  }
 },
 "nbformat": 4,
 "nbformat_minor": 5
}
