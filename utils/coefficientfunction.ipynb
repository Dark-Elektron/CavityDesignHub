{
 "cells": [
  {
   "cell_type": "markdown",
   "metadata": {},
   "source": [
    "1.2 CoefficientFunctions\n",
    "====\n",
    "\n",
    "In NGSolve, `CoefficientFunction`s are representations of functions defined on the computational domain. Examples are expressions of coordinate variables $x, y, z$ and functions that are  constant on subdomains. Much of the magic behind the seamless integration of NGSolve with python lies in `CoefficientFunction`s. This tutorial introduces you to them.\n",
    "\n",
    "After this tutorial you will know how to \n",
    "\n",
    "- **define** a `CoefficientFunction`,\n",
    "- **visualize**  a `CoefficientFunction`,\n",
    "- **evaluate** `CoefficientFunction`s at points,\n",
    "- print the **expression tree** of `CoefficientFunction`,\n",
    "- **integrate** a `CoefficientFunction`, \n",
    "- **differentiate** a `CoefficientFunction`, \n",
    "- include **parameter** in `CoefficientFunction`s,\n",
    "- **interpolate** a `CoefficientFunction` into a finite element space, \n",
    "- define **vector-valued** `CoefficientFunction`s, and \n",
    "- **compile** `CoefficientFunction`s."
   ]
  },
  {
   "cell_type": "code",
   "execution_count": 1,
   "metadata": {},
   "outputs": [],
   "source": [
    "from ngsolve import *\n",
    "from ngsolve.webgui import Draw\n",
    "import matplotlib.pyplot as plt\n",
    "mesh = Mesh (unit_square.GenerateMesh(maxh=0.2))"
   ]
  },
  {
   "cell_type": "markdown",
   "metadata": {},
   "source": [
    "### Define a function"
   ]
  },
  {
   "cell_type": "code",
   "execution_count": 2,
   "metadata": {},
   "outputs": [
    {
     "data": {
      "text/plain": [
       "<ngsolve.fem.CoefficientFunction at 0x292de909fd0>"
      ]
     },
     "execution_count": 2,
     "metadata": {},
     "output_type": "execute_result"
    }
   ],
   "source": [
    "myfunc = x*(1-x)\n",
    "myfunc   # You have just created a CoefficientFunction"
   ]
  },
  {
   "cell_type": "code",
   "execution_count": 3,
   "metadata": {},
   "outputs": [
    {
     "data": {
      "text/plain": [
       "<ngsolve.fem.CoefficientFunction at 0x291bf130ef0>"
      ]
     },
     "execution_count": 3,
     "metadata": {},
     "output_type": "execute_result"
    }
   ],
   "source": [
    "x        # This is a built-in CoefficientFunction"
   ]
  },
  {
   "cell_type": "markdown",
   "metadata": {},
   "source": [
    "### Visualize the function\n",
    "\n",
    "Use the `mesh` to visualize the function."
   ]
  },
  {
   "cell_type": "code",
   "execution_count": 4,
   "metadata": {},
   "outputs": [
    {
     "data": {
      "application/vnd.jupyter.widget-view+json": {
       "model_id": "c7c7b4e5331240a49cee804333f8c99a",
       "version_major": 2,
       "version_minor": 0
      },
      "text/plain": [
       "WebGuiWidget(layout=Layout(height='50vh', width='100%'), value={'gui_settings': {}, 'ngsolve_version': '6.2.23…"
      ]
     },
     "metadata": {},
     "output_type": "display_data"
    }
   ],
   "source": [
    "Draw(myfunc, mesh);"
   ]
  },
  {
   "cell_type": "markdown",
   "metadata": {},
   "source": [
    "### Evaluate the function"
   ]
  },
  {
   "cell_type": "code",
   "execution_count": 5,
   "metadata": {},
   "outputs": [
    {
     "data": {
      "text/plain": [
       "0.16000000000000003"
      ]
     },
     "execution_count": 5,
     "metadata": {},
     "output_type": "execute_result"
    }
   ],
   "source": [
    "mip = mesh(0.2, 0.2)\n",
    "myfunc(mip)"
   ]
  },
  {
   "cell_type": "markdown",
   "metadata": {},
   "source": [
    "Note that `myfunc(0.2,0.3)` will not evaluate the function: one must give points in the form of `MappedIntegrationPoint`s like `mip` above. The `mesh` knows how to produce them."
   ]
  },
  {
   "cell_type": "markdown",
   "metadata": {},
   "source": [
    "### Examining functions on sets of points"
   ]
  },
  {
   "cell_type": "code",
   "execution_count": 6,
   "metadata": {},
   "outputs": [
    {
     "name": "stdout",
     "output_type": "stream",
     "text": [
      "point=(0.00,0.20), value=0.00000\n",
      "point=(0.10,0.20), value=0.09000\n",
      "point=(0.20,0.20), value=0.16000\n",
      "point=(0.30,0.20), value=0.21000\n",
      "point=(0.40,0.20), value=0.24000\n",
      "point=(0.50,0.20), value=0.25000\n",
      "point=(0.60,0.20), value=0.24000\n",
      "point=(0.70,0.20), value=0.21000\n",
      "point=(0.80,0.20), value=0.16000\n",
      "point=(0.90,0.20), value=0.09000\n",
      "point=(1.00,0.20), value=0.00000\n"
     ]
    }
   ],
   "source": [
    "pts = [(0.1*i, 0.2) for i in range(11)]\n",
    "vals = [myfunc(mesh(*p)) for p in pts] \n",
    "for p,v in zip(pts, vals):\n",
    "    print(\"point=(%3.2f,%3.2f), value=%6.5f\"\n",
    "         %(p[0], p[1], v))"
   ]
  },
  {
   "cell_type": "markdown",
   "metadata": {},
   "source": [
    "Here is the vectorized version of the same code using `numpy`."
   ]
  },
  {
   "cell_type": "code",
   "execution_count": 7,
   "metadata": {},
   "outputs": [
    {
     "data": {
      "text/plain": [
       "array([[0.  ],\n",
       "       [0.09],\n",
       "       [0.16],\n",
       "       [0.21],\n",
       "       [0.24],\n",
       "       [0.25],\n",
       "       [0.24],\n",
       "       [0.21],\n",
       "       [0.16],\n",
       "       [0.09],\n",
       "       [0.  ]])"
      ]
     },
     "execution_count": 7,
     "metadata": {},
     "output_type": "execute_result"
    }
   ],
   "source": [
    "import numpy as np\n",
    "X = np.linspace(0, 1, num=11)\n",
    "Y = np.ones_like(X) * 0.2\n",
    "myfunc(mesh(X, Y))"
   ]
  },
  {
   "cell_type": "markdown",
   "metadata": {},
   "source": [
    "We may plot the restriction of the `CoefficientFunction` on a line using matplotlib. "
   ]
  },
  {
   "cell_type": "code",
   "execution_count": 8,
   "metadata": {},
   "outputs": [
    {
     "data": {
      "image/png": "[encoded data removed]",
      "text/plain": [
       "<Figure size 640x480 with 1 Axes>"
      ]
     },
     "metadata": {},
     "output_type": "display_data"
    }
   ],
   "source": [
    "X = np.linspace(0, 1, num=100)\n",
    "Y = np.ones_like(X) * 0.2\n",
    "plt.plot(X, myfunc(mesh(X, Y)))\n",
    "plt.xlabel('x')\n",
    "plt.show()"
   ]
  },
  {
   "cell_type": "markdown",
   "metadata": {},
   "source": [
    "### Expression tree of a function\n",
    "\n",
    "Internally, coefficient functions are implemented as an expression tree made from building blocks like `x`, `y`, `sin`, etc., and arithmetic operations. (Knowing this will provide context for the later discussion of speeding up their evaluations.) For example, the expression tree for `myfunc = x*(1-x)` looks like this:"
   ]
  },
  {
   "cell_type": "code",
   "execution_count": 9,
   "metadata": {},
   "outputs": [
    {
     "name": "stdout",
     "output_type": "stream",
     "text": [
      "coef binary operation '*', real\n",
      "  coef coordinate x, real\n",
      "  coef binary operation '-', real\n",
      "    coef 1, real\n",
      "    coef coordinate x, real\n",
      "\n"
     ]
    }
   ],
   "source": [
    "print(myfunc) "
   ]
  },
  {
   "cell_type": "markdown",
   "metadata": {},
   "source": [
    "### Integrate a function"
   ]
  },
  {
   "cell_type": "markdown",
   "metadata": {},
   "source": [
    "We can numerically integrate the function using the mesh:"
   ]
  },
  {
   "cell_type": "code",
   "execution_count": 10,
   "metadata": {},
   "outputs": [
    {
     "data": {
      "text/plain": [
       "0.166666666666666"
      ]
     },
     "execution_count": 10,
     "metadata": {},
     "output_type": "execute_result"
    }
   ],
   "source": [
    "Integrate(myfunc, mesh, order=5)"
   ]
  },
  {
   "cell_type": "markdown",
   "metadata": {},
   "source": [
    "You can change the precision of the quadrature rule used for the integration using the key word argument `order`. "
   ]
  },
  {
   "cell_type": "markdown",
   "metadata": {},
   "source": [
    "### Differentiate a function"
   ]
  },
  {
   "cell_type": "markdown",
   "metadata": {},
   "source": [
    "Automatic differentiation of a `CoefficientFunction` is possible through the `Diff` method. Here is how you get $\\partial / \\partial x$ of `myfunc`:"
   ]
  },
  {
   "cell_type": "code",
   "execution_count": 11,
   "metadata": {},
   "outputs": [
    {
     "data": {
      "application/vnd.jupyter.widget-view+json": {
       "model_id": "56b1b94f47c24f08a98bd1d4952dabd0",
       "version_major": 2,
       "version_minor": 0
      },
      "text/plain": [
       "WebGuiWidget(layout=Layout(height='50vh', width='100%'), value={'gui_settings': {}, 'ngsolve_version': '6.2.23…"
      ]
     },
     "metadata": {},
     "output_type": "display_data"
    }
   ],
   "source": [
    "diff_myfunc = myfunc.Diff(x)\n",
    "Draw(diff_myfunc, mesh, \"derivative\");"
   ]
  },
  {
   "cell_type": "markdown",
   "metadata": {},
   "source": [
    "See if you can recognize an implementation of the product rule \n",
    "\n",
    "$$\n",
    "\\frac{\\partial}{\\partial x} x (1-x)\n",
    "= \n",
    "\\frac{\\partial x}{\\partial x} \n",
    "(1-x) + \n",
    "x\\frac{\\partial (1-x)}{\\partial x} \n",
    "$$\n",
    "\n",
    "in the tree-representation of the differentiated coefficient function, printed below."
   ]
  },
  {
   "cell_type": "code",
   "execution_count": 12,
   "metadata": {},
   "outputs": [
    {
     "name": "stdout",
     "output_type": "stream",
     "text": [
      "coef binary operation '+', real\n",
      "  coef binary operation '*', real\n",
      "    coef coordinate x, real\n",
      "    coef scale -1, real\n",
      "      coef 1, real\n",
      "  coef binary operation '*', real\n",
      "    coef binary operation '-', real\n",
      "      coef 1, real\n",
      "      coef coordinate x, real\n",
      "    coef 1, real\n",
      "\n"
     ]
    }
   ],
   "source": [
    "print(diff_myfunc)"
   ]
  },
  {
   "cell_type": "markdown",
   "metadata": {},
   "source": [
    "### Parameters in functions\n",
    "\n",
    "When building complex coefficient functions from simple ones like `x` and `y`, you may often want to introduce `Parameter`s, which are constants whose value may be changed later."
   ]
  },
  {
   "cell_type": "code",
   "execution_count": 13,
   "metadata": {},
   "outputs": [
    {
     "data": {
      "application/vnd.jupyter.widget-view+json": {
       "model_id": "4e7a3144c13240e3bf1e7a132c57b534",
       "version_major": 2,
       "version_minor": 0
      },
      "text/plain": [
       "WebGuiWidget(layout=Layout(height='50vh', width='100%'), value={'gui_settings': {}, 'ngsolve_version': '6.2.23…"
      ]
     },
     "metadata": {},
     "output_type": "display_data"
    }
   ],
   "source": [
    "k = Parameter(1.0)\n",
    "f = sin(k*y)\n",
    "Draw(f, mesh);"
   ]
  },
  {
   "cell_type": "markdown",
   "metadata": {},
   "source": [
    "The same `f` may be given a different value of `k` later:"
   ]
  },
  {
   "cell_type": "code",
   "execution_count": 14,
   "metadata": {},
   "outputs": [
    {
     "data": {
      "application/vnd.jupyter.widget-view+json": {
       "model_id": "fc78ca5d9df54b2681dc71f882eb5189",
       "version_major": 2,
       "version_minor": 0
      },
      "text/plain": [
       "WebGuiWidget(layout=Layout(height='50vh', width='100%'), value={'gui_settings': {}, 'ngsolve_version': '6.2.23…"
      ]
     },
     "metadata": {},
     "output_type": "display_data"
    }
   ],
   "source": [
    "k.Set(10)\n",
    "Draw(f, mesh, order=3);"
   ]
  },
  {
   "cell_type": "markdown",
   "metadata": {},
   "source": [
    "Look at the expression tree of `f`:"
   ]
  },
  {
   "cell_type": "code",
   "execution_count": 15,
   "metadata": {},
   "outputs": [
    {
     "name": "stdout",
     "output_type": "stream",
     "text": [
      "coef unary operation 'sin', real\n",
      "  coef binary operation '*', real\n",
      "    coef class ngfem::ParameterCoefficientFunction<double>, real\n",
      "    coef coordinate y, real\n",
      "\n"
     ]
    }
   ],
   "source": [
    "print(f)"
   ]
  },
  {
   "cell_type": "markdown",
   "metadata": {},
   "source": [
    "Note how the parameter\n",
    "is now a **node** in the expression tree.  You can differentiate a coefficient function with respect to such quantities by passing it as argument to `Diff`:"
   ]
  },
  {
   "cell_type": "code",
   "execution_count": 16,
   "metadata": {},
   "outputs": [
    {
     "name": "stdout",
     "output_type": "stream",
     "text": [
      "coef binary operation '*', real\n",
      "  coef unary operation 'cos', real\n",
      "    coef binary operation '*', real\n",
      "      coef class ngfem::ParameterCoefficientFunction<double>, real\n",
      "      coef coordinate y, real\n",
      "  coef binary operation '*', real\n",
      "    coef coordinate y, real\n",
      "    coef 1, real\n",
      "\n"
     ]
    }
   ],
   "source": [
    "print (f.Diff(k))"
   ]
  },
  {
   "cell_type": "code",
   "execution_count": 17,
   "metadata": {},
   "outputs": [
    {
     "data": {
      "text/plain": [
       "0.0"
      ]
     },
     "execution_count": 17,
     "metadata": {},
     "output_type": "execute_result"
    }
   ],
   "source": [
    "Integrate((f.Diff(k) - y*cos(k*y))**2, mesh)"
   ]
  },
  {
   "cell_type": "markdown",
   "metadata": {},
   "source": [
    "### Interpolate a function\n",
    "\n",
    "We may `Set` a `GridFunction` using a `CoefficientFunction`:"
   ]
  },
  {
   "cell_type": "code",
   "execution_count": 18,
   "metadata": {},
   "outputs": [
    {
     "data": {
      "application/vnd.jupyter.widget-view+json": {
       "model_id": "9baf0f18dea54047aea3b783ce2ac03f",
       "version_major": 2,
       "version_minor": 0
      },
      "text/plain": [
       "WebGuiWidget(layout=Layout(height='50vh', width='100%'), value={'gui_settings': {}, 'ngsolve_version': '6.2.23…"
      ]
     },
     "metadata": {},
     "output_type": "display_data"
    }
   ],
   "source": [
    "fes = H1(mesh, order=1)\n",
    "u = GridFunction(fes)\n",
    "u.Set(myfunc)\n",
    "Draw(u); "
   ]
  },
  {
   "cell_type": "markdown",
   "metadata": {},
   "source": [
    "* The `Set` method interpolates `myfunc` to an element `u` in the finite element space.\n",
    "\n",
    "* `Set` does an *Oswald-type interpolation* as follows:\n",
    "    - It first zeros the grid function;\n",
    "    - It then projects `myfunc` in $L^2$ on each mesh element;\n",
    "    - It then averages dofs on element interfaces for conformity.\n",
    "    \n",
    "* We will see other ways to interpolate in [Unit 2.10](../unit-2.10-dualbasis/dualbasis.ipynb)."
   ]
  },
  {
   "cell_type": "markdown",
   "metadata": {},
   "source": [
    "### Vector-valued `CoefficientFunction`"
   ]
  },
  {
   "cell_type": "markdown",
   "metadata": {},
   "source": [
    "Here is an example of a vector-valued coefficient function."
   ]
  },
  {
   "cell_type": "code",
   "execution_count": 19,
   "metadata": {},
   "outputs": [],
   "source": [
    "vecfun = CoefficientFunction((-y, sin(x)))"
   ]
  },
  {
   "cell_type": "markdown",
   "metadata": {},
   "source": [
    "Instead of writing the long name, you can abbreviate:"
   ]
  },
  {
   "cell_type": "code",
   "execution_count": 20,
   "metadata": {},
   "outputs": [],
   "source": [
    "vecfun = CF((-y, sin(x)))   # CF = CoefficientFunction"
   ]
  },
  {
   "cell_type": "markdown",
   "metadata": {},
   "source": [
    "To draw the vector field in the `webgui` using arrows, use the `vectors` keyword argument."
   ]
  },
  {
   "cell_type": "code",
   "execution_count": 21,
   "metadata": {},
   "outputs": [
    {
     "data": {
      "application/vnd.jupyter.widget-view+json": {
       "model_id": "9d8d2409e4dc4d6d82861b2927f34136",
       "version_major": 2,
       "version_minor": 0
      },
      "text/plain": [
       "WebGuiWidget(layout=Layout(height='50vh', width='100%'), value={'gui_settings': {}, 'ngsolve_version': '6.2.23…"
      ]
     },
     "metadata": {},
     "output_type": "display_data"
    }
   ],
   "source": [
    "Draw(vecfun, mesh, vectors=True);"
   ]
  },
  {
   "cell_type": "markdown",
   "metadata": {},
   "source": [
    "Another example of a vector-valued coefficient function is the gradient of a scalar `GridFunction`. Here is an example using the above-set `GridFunction` called `u`. The colors represent the magnitude of the vector field and the arrows give the direction. "
   ]
  },
  {
   "cell_type": "code",
   "execution_count": 22,
   "metadata": {},
   "outputs": [
    {
     "data": {
      "application/vnd.jupyter.widget-view+json": {
       "model_id": "c33078fe167e4f13b65998d0d4279d21",
       "version_major": 2,
       "version_minor": 0
      },
      "text/plain": [
       "WebGuiWidget(layout=Layout(height='50vh', width='100%'), value={'gui_settings': {}, 'ngsolve_version': '6.2.23…"
      ]
     },
     "metadata": {},
     "output_type": "display_data"
    }
   ],
   "source": [
    "u.Set(myfunc)\n",
    "gradu = grad(u)\n",
    "Draw(gradu, mesh, vectors={\"grid_size\":30});"
   ]
  },
  {
   "cell_type": "markdown",
   "metadata": {},
   "source": [
    "### Compiled `CoefficientFunction`"
   ]
  },
  {
   "cell_type": "markdown",
   "metadata": {},
   "source": [
    "Evaluation of a `CoefficientFunction` at a point is usually done \n",
    "by traversing its expression tree and evaluating each node of the tree. When the tree has repeated nodes, this is likely wasteful. NGSolve allows you to **\"compile\"** a `CoefficientFunction` to increase the efficiency of its evaluation. The compilation translates the expression tree into a sequence of linear steps. \n",
    "\n",
    "Continuing with our simple `myfunc` example, here is how to use the `Compile` method:"
   ]
  },
  {
   "cell_type": "code",
   "execution_count": 23,
   "metadata": {},
   "outputs": [],
   "source": [
    "myfunc_compiled = myfunc.Compile()"
   ]
  },
  {
   "cell_type": "markdown",
   "metadata": {},
   "source": [
    "Now look at the differences between the compiled and non-compiled `CoefficientFunction`:"
   ]
  },
  {
   "cell_type": "code",
   "execution_count": 24,
   "metadata": {},
   "outputs": [
    {
     "name": "stdout",
     "output_type": "stream",
     "text": [
      "coef binary operation '*', real\n",
      "  coef coordinate x, real\n",
      "  coef binary operation '-', real\n",
      "    coef 1, real\n",
      "    coef coordinate x, real\n",
      "\n"
     ]
    }
   ],
   "source": [
    "print(myfunc)"
   ]
  },
  {
   "cell_type": "code",
   "execution_count": 25,
   "metadata": {},
   "outputs": [
    {
     "name": "stdout",
     "output_type": "stream",
     "text": [
      "Compiled CF:\n",
      "Step 0: coordinate x\n",
      "Step 1: 1\n",
      "Step 2: binary operation '-'\n",
      "     input: 1 0 \n",
      "Step 3: binary operation '*'\n",
      "     input: 0 2 \n",
      "\n"
     ]
    }
   ],
   "source": [
    "print(myfunc_compiled)"
   ]
  },
  {
   "cell_type": "markdown",
   "metadata": {},
   "source": [
    "Evaluation of the compiled function is now a linear sequence of Steps 0, 1, 2, and 3 above. The output description of Steps 2 and 3 above means the following:\n",
    "\n",
    "*  Step 2: (Output of Step 1) - (Output of Step 0) \n",
    "*  Step 3: (Output of Step 0) * (Output of Step 2) "
   ]
  },
  {
   "cell_type": "markdown",
   "metadata": {},
   "source": [
    "Here is another example, along with differences in timings for integrating the same coefficient function, in three different forms, on the same mesh. "
   ]
  },
  {
   "cell_type": "code",
   "execution_count": 26,
   "metadata": {},
   "outputs": [],
   "source": [
    "f0 = myfunc\n",
    "f1 = f0*y \n",
    "f2 = f1*f1 + f1*f0 + f0*f0 \n",
    "f3 = f2*f2*f2*f0**2 + f0*f2**2 + f0**2 + f1**2 + f2**2\n",
    "final = f3 + f3 + f3 \n",
    "finalc = final.Compile()"
   ]
  },
  {
   "cell_type": "code",
   "execution_count": 27,
   "metadata": {},
   "outputs": [
    {
     "name": "stdout",
     "output_type": "stream",
     "text": [
      "939 µs ± 35 µs per loop (mean ± std. dev. of 7 runs, 1,000 loops each)\n"
     ]
    }
   ],
   "source": [
    "%timeit Integrate(final, mesh, order=10)"
   ]
  },
  {
   "cell_type": "code",
   "execution_count": 28,
   "metadata": {},
   "outputs": [
    {
     "name": "stdout",
     "output_type": "stream",
     "text": [
      "106 µs ± 5.5 µs per loop (mean ± std. dev. of 7 runs, 10,000 loops each)\n"
     ]
    }
   ],
   "source": [
    "%timeit Integrate(finalc, mesh, order=10)"
   ]
  },
  {
   "cell_type": "markdown",
   "metadata": {},
   "source": [
    "If your NGSolve installation has a compiler script (you likely do if you built NGSolve from source using a compiler/toolchain), then you additionally have the option of letting that script optimize your coefficient function further. Here is an example:"
   ]
  },
  {
   "cell_type": "code",
   "execution_count": 31,
   "metadata": {},
   "outputs": [
    {
     "ename": "NgException",
     "evalue": "problem calling compiler",
     "output_type": "error",
     "traceback": [
      "\u001b[1;31m---------------------------------------------------------------------------\u001b[0m",
      "\u001b[1;31mNgException\u001b[0m                               Traceback (most recent call last)",
      "Cell \u001b[1;32mIn[31], line 1\u001b[0m\n\u001b[1;32m----> 1\u001b[0m finalcc \u001b[38;5;241m=\u001b[39m \u001b[43mfinal\u001b[49m\u001b[38;5;241;43m.\u001b[39;49m\u001b[43mCompile\u001b[49m\u001b[43m(\u001b[49m\u001b[43mrealcompile\u001b[49m\u001b[38;5;241;43m=\u001b[39;49m\u001b[38;5;28;43;01mTrue\u001b[39;49;00m\u001b[43m,\u001b[49m\u001b[43m \u001b[49m\u001b[43mwait\u001b[49m\u001b[38;5;241;43m=\u001b[39;49m\u001b[38;5;28;43;01mTrue\u001b[39;49;00m\u001b[43m)\u001b[49m\n",
      "\u001b[1;31mNgException\u001b[0m: problem calling compiler"
     ]
    }
   ],
   "source": [
    "finalcc = final.Compile(realcompile=True, wait=True)"
   ]
  },
  {
   "cell_type": "code",
   "execution_count": 30,
   "metadata": {},
   "outputs": [
    {
     "ename": "NameError",
     "evalue": "name 'finalcc' is not defined",
     "output_type": "error",
     "traceback": [
      "\u001b[1;31m---------------------------------------------------------------------------\u001b[0m",
      "\u001b[1;31mNameError\u001b[0m                                 Traceback (most recent call last)",
      "Cell \u001b[1;32mIn[30], line 1\u001b[0m\n\u001b[1;32m----> 1\u001b[0m \u001b[43mget_ipython\u001b[49m\u001b[43m(\u001b[49m\u001b[43m)\u001b[49m\u001b[38;5;241;43m.\u001b[39;49m\u001b[43mrun_line_magic\u001b[49m\u001b[43m(\u001b[49m\u001b[38;5;124;43m'\u001b[39;49m\u001b[38;5;124;43mtimeit\u001b[39;49m\u001b[38;5;124;43m'\u001b[39;49m\u001b[43m,\u001b[49m\u001b[43m \u001b[49m\u001b[38;5;124;43m'\u001b[39;49m\u001b[38;5;124;43mIntegrate(finalcc, mesh, order=10)\u001b[39;49m\u001b[38;5;124;43m'\u001b[39;49m\u001b[43m)\u001b[49m\n",
      "File \u001b[1;32m~\\anaconda3\\envs\\CEMCodesHub\\lib\\site-packages\\IPython\\core\\interactiveshell.py:2432\u001b[0m, in \u001b[0;36mInteractiveShell.run_line_magic\u001b[1;34m(self, magic_name, line, _stack_depth)\u001b[0m\n\u001b[0;32m   2430\u001b[0m     kwargs[\u001b[38;5;124m'\u001b[39m\u001b[38;5;124mlocal_ns\u001b[39m\u001b[38;5;124m'\u001b[39m] \u001b[38;5;241m=\u001b[39m \u001b[38;5;28mself\u001b[39m\u001b[38;5;241m.\u001b[39mget_local_scope(stack_depth)\n\u001b[0;32m   2431\u001b[0m \u001b[38;5;28;01mwith\u001b[39;00m \u001b[38;5;28mself\u001b[39m\u001b[38;5;241m.\u001b[39mbuiltin_trap:\n\u001b[1;32m-> 2432\u001b[0m     result \u001b[38;5;241m=\u001b[39m fn(\u001b[38;5;241m*\u001b[39margs, \u001b[38;5;241m*\u001b[39m\u001b[38;5;241m*\u001b[39mkwargs)\n\u001b[0;32m   2434\u001b[0m \u001b[38;5;66;03m# The code below prevents the output from being displayed\u001b[39;00m\n\u001b[0;32m   2435\u001b[0m \u001b[38;5;66;03m# when using magics with decorator @output_can_be_silenced\u001b[39;00m\n\u001b[0;32m   2436\u001b[0m \u001b[38;5;66;03m# when the last Python token in the expression is a ';'.\u001b[39;00m\n\u001b[0;32m   2437\u001b[0m \u001b[38;5;28;01mif\u001b[39;00m \u001b[38;5;28mgetattr\u001b[39m(fn, magic\u001b[38;5;241m.\u001b[39mMAGIC_OUTPUT_CAN_BE_SILENCED, \u001b[38;5;28;01mFalse\u001b[39;00m):\n",
      "File \u001b[1;32m~\\anaconda3\\envs\\CEMCodesHub\\lib\\site-packages\\IPython\\core\\magics\\execution.py:1185\u001b[0m, in \u001b[0;36mExecutionMagics.timeit\u001b[1;34m(self, line, cell, local_ns)\u001b[0m\n\u001b[0;32m   1183\u001b[0m \u001b[38;5;28;01mfor\u001b[39;00m index \u001b[38;5;129;01min\u001b[39;00m \u001b[38;5;28mrange\u001b[39m(\u001b[38;5;241m0\u001b[39m, \u001b[38;5;241m10\u001b[39m):\n\u001b[0;32m   1184\u001b[0m     number \u001b[38;5;241m=\u001b[39m \u001b[38;5;241m10\u001b[39m \u001b[38;5;241m*\u001b[39m\u001b[38;5;241m*\u001b[39m index\n\u001b[1;32m-> 1185\u001b[0m     time_number \u001b[38;5;241m=\u001b[39m \u001b[43mtimer\u001b[49m\u001b[38;5;241;43m.\u001b[39;49m\u001b[43mtimeit\u001b[49m\u001b[43m(\u001b[49m\u001b[43mnumber\u001b[49m\u001b[43m)\u001b[49m\n\u001b[0;32m   1186\u001b[0m     \u001b[38;5;28;01mif\u001b[39;00m time_number \u001b[38;5;241m>\u001b[39m\u001b[38;5;241m=\u001b[39m \u001b[38;5;241m0.2\u001b[39m:\n\u001b[0;32m   1187\u001b[0m         \u001b[38;5;28;01mbreak\u001b[39;00m\n",
      "File \u001b[1;32m~\\anaconda3\\envs\\CEMCodesHub\\lib\\site-packages\\IPython\\core\\magics\\execution.py:173\u001b[0m, in \u001b[0;36mTimer.timeit\u001b[1;34m(self, number)\u001b[0m\n\u001b[0;32m    171\u001b[0m gc\u001b[38;5;241m.\u001b[39mdisable()\n\u001b[0;32m    172\u001b[0m \u001b[38;5;28;01mtry\u001b[39;00m:\n\u001b[1;32m--> 173\u001b[0m     timing \u001b[38;5;241m=\u001b[39m \u001b[38;5;28;43mself\u001b[39;49m\u001b[38;5;241;43m.\u001b[39;49m\u001b[43minner\u001b[49m\u001b[43m(\u001b[49m\u001b[43mit\u001b[49m\u001b[43m,\u001b[49m\u001b[43m \u001b[49m\u001b[38;5;28;43mself\u001b[39;49m\u001b[38;5;241;43m.\u001b[39;49m\u001b[43mtimer\u001b[49m\u001b[43m)\u001b[49m\n\u001b[0;32m    174\u001b[0m \u001b[38;5;28;01mfinally\u001b[39;00m:\n\u001b[0;32m    175\u001b[0m     \u001b[38;5;28;01mif\u001b[39;00m gcold:\n",
      "File \u001b[1;32m<magic-timeit>:1\u001b[0m, in \u001b[0;36minner\u001b[1;34m(_it, _timer)\u001b[0m\n",
      "\u001b[1;31mNameError\u001b[0m: name 'finalcc' is not defined"
     ]
    }
   ],
   "source": [
    "%timeit Integrate(finalcc, mesh, order=10)"
   ]
  },
  {
   "cell_type": "markdown",
   "metadata": {},
   "source": [
    "Clearly these experiments show that the evaluation of an expression tree can be made faster by compiling the tree into a set of linear instructions. This conclusion is also supported by looking at the long outputs of the expression tree with and without the compile option."
   ]
  },
  {
   "cell_type": "code",
   "execution_count": 32,
   "metadata": {},
   "outputs": [
    {
     "name": "stdout",
     "output_type": "stream",
     "text": [
      "Compiled CF:\n",
      "Step 0: coordinate x\n",
      "Step 1: 1\n",
      "Step 2: binary operation '-'\n",
      "     input: 1 0 \n",
      "Step 3: binary operation '*'\n",
      "     input: 0 2 \n",
      "Step 4: coordinate y\n",
      "Step 5: binary operation '*'\n",
      "     input: 3 4 \n",
      "Step 6: binary operation '*'\n",
      "     input: 5 5 \n",
      "Step 7: binary operation '*'\n",
      "     input: 5 3 \n",
      "Step 8: binary operation '+'\n",
      "     input: 6 7 \n",
      "Step 9: binary operation '*'\n",
      "     input: 3 3 \n",
      "Step 10: binary operation '+'\n",
      "     input: 8 9 \n",
      "Step 11: binary operation '*'\n",
      "     input: 10 10 \n",
      "Step 12: binary operation '*'\n",
      "     input: 11 10 \n",
      "Step 13: binary operation '*'\n",
      "     input: 3 3 \n",
      "Step 14: binary operation '*'\n",
      "     input: 12 13 \n",
      "Step 15: binary operation '*'\n",
      "     input: 10 10 \n",
      "Step 16: binary operation '*'\n",
      "     input: 3 15 \n",
      "Step 17: binary operation '+'\n",
      "     input: 14 16 \n",
      "Step 18: binary operation '*'\n",
      "     input: 3 3 \n",
      "Step 19: binary operation '+'\n",
      "     input: 17 18 \n",
      "Step 20: binary operation '*'\n",
      "     input: 5 5 \n",
      "Step 21: binary operation '+'\n",
      "     input: 19 20 \n",
      "Step 22: binary operation '*'\n",
      "     input: 10 10 \n",
      "Step 23: binary operation '+'\n",
      "     input: 21 22 \n",
      "Step 24: binary operation '+'\n",
      "     input: 23 23 \n",
      "Step 25: binary operation '+'\n",
      "     input: 24 23 \n",
      "\n"
     ]
    }
   ],
   "source": [
    "print(finalc)"
   ]
  },
  {
   "cell_type": "code",
   "execution_count": 33,
   "metadata": {},
   "outputs": [
    {
     "name": "stdout",
     "output_type": "stream",
     "text": [
      "coef binary operation '+', real\n",
      "  coef binary operation '+', real\n",
      "    coef binary operation '+', real\n",
      "      coef binary operation '+', real\n",
      "        coef binary operation '+', real\n",
      "          coef binary operation '+', real\n",
      "            coef binary operation '*', real\n",
      "              coef binary operation '*', real\n",
      "                coef binary operation '*', real\n",
      "                  coef binary operation '+', real\n",
      "                    coef binary operation '+', real\n",
      "                      coef binary operation '*', real\n",
      "                        coef binary operation '*', real\n",
      "                          coef binary operation '*', real\n",
      "                            coef coordinate x, real\n",
      "                            coef binary operation '-', real\n",
      "                              coef 1, real\n",
      "                              coef coordinate x, real\n",
      "                          coef coordinate y, real\n",
      "                        coef binary operation '*', real\n",
      "                          coef binary operation '*', real\n",
      "                            coef coordinate x, real\n",
      "                            coef binary operation '-', real\n",
      "                              coef 1, real\n",
      "                              coef coordinate x, real\n",
      "                          coef coordinate y, real\n",
      "                      coef binary operation '*', real\n",
      "                        coef binary operation '*', real\n",
      "                          coef binary operation '*', real\n",
      "                            coef coordinate x, real\n",
      "                            coef binary operation '-', real\n",
      "                              coef 1, real\n",
      "                              coef coordinate x, real\n",
      "                          coef coordinate y, real\n",
      "                        coef binary operation '*', real\n",
      "                          coef coordinate x, real\n",
      "                          coef binary operation '-', real\n",
      "                            coef 1, real\n",
      "                            coef coordinate x, real\n",
      "                    coef binary operation '*', real\n",
      "                      coef binary operation '*', real\n",
      "                        coef coordinate x, real\n",
      "                        coef binary operation '-', real\n",
      "                          coef 1, real\n",
      "                          coef coordinate x, real\n",
      "                      coef binary operation '*', real\n",
      "                        coef coordinate x, real\n",
      "                        coef binary operation '-', real\n",
      "                          coef 1, real\n",
      "                          coef coordinate x, real\n",
      "                  coef binary operation '+', real\n",
      "                    coef binary operation '+', real\n",
      "                      coef binary operation '*', real\n",
      "                        coef binary operation '*', real\n",
      "                          coef binary operation '*', real\n",
      "                            coef coordinate x, real\n",
      "                            coef binary operation '-', real\n",
      "                              coef 1, real\n",
      "                              coef coordinate x, real\n",
      "                          coef coordinate y, real\n",
      "                        coef binary operation '*', real\n",
      "                          coef binary operation '*', real\n",
      "                            coef coordinate x, real\n",
      "                            coef binary operation '-', real\n",
      "                              coef 1, real\n",
      "                              coef coordinate x, real\n",
      "                          coef coordinate y, real\n",
      "                      coef binary operation '*', real\n",
      "                        coef binary operation '*', real\n",
      "                          coef binary operation '*', real\n",
      "                            coef coordinate x, real\n",
      "                            coef binary operation '-', real\n",
      "                              coef 1, real\n",
      "                              coef coordinate x, real\n",
      "                          coef coordinate y, real\n",
      "                        coef binary operation '*', real\n",
      "                          coef coordinate x, real\n",
      "                          coef binary operation '-', real\n",
      "                            coef 1, real\n",
      "                            coef coordinate x, real\n",
      "                    coef binary operation '*', real\n",
      "                      coef binary operation '*', real\n",
      "                        coef coordinate x, real\n",
      "                        coef binary operation '-', real\n",
      "                          coef 1, real\n",
      "                          coef coordinate x, real\n",
      "                      coef binary operation '*', real\n",
      "                        coef coordinate x, real\n",
      "                        coef binary operation '-', real\n",
      "                          coef 1, real\n",
      "                          coef coordinate x, real\n",
      "                coef binary operation '+', real\n",
      "                  coef binary operation '+', real\n",
      "                    coef binary operation '*', real\n",
      "                      coef binary operation '*', real\n",
      "                        coef binary operation '*', real\n",
      "                          coef coordinate x, real\n",
      "                          coef binary operation '-', real\n",
      "                            coef 1, real\n",
      "                            coef coordinate x, real\n",
      "                        coef coordinate y, real\n",
      "                      coef binary operation '*', real\n",
      "                        coef binary operation '*', real\n",
      "                          coef coordinate x, real\n",
      "                          coef binary operation '-', real\n",
      "                            coef 1, real\n",
      "                            coef coordinate x, real\n",
      "                        coef coordinate y, real\n",
      "                    coef binary operation '*', real\n",
      "                      coef binary operation '*', real\n",
      "                        coef binary operation '*', real\n",
      "                          coef coordinate x, real\n",
      "                          coef binary operation '-', real\n",
      "                            coef 1, real\n",
      "                            coef coordinate x, real\n",
      "                        coef coordinate y, real\n",
      "                      coef binary operation '*', real\n",
      "                        coef coordinate x, real\n",
      "                        coef binary operation '-', real\n",
      "                          coef 1, real\n",
      "                          coef coordinate x, real\n",
      "                  coef binary operation '*', real\n",
      "                    coef binary operation '*', real\n",
      "                      coef coordinate x, real\n",
      "                      coef binary operation '-', real\n",
      "                        coef 1, real\n",
      "                        coef coordinate x, real\n",
      "                    coef binary operation '*', real\n",
      "                      coef coordinate x, real\n",
      "                      coef binary operation '-', real\n",
      "                        coef 1, real\n",
      "                        coef coordinate x, real\n",
      "              coef binary operation '*', real\n",
      "                coef binary operation '*', real\n",
      "                  coef coordinate x, real\n",
      "                  coef binary operation '-', real\n",
      "                    coef 1, real\n",
      "                    coef coordinate x, real\n",
      "                coef binary operation '*', real\n",
      "                  coef coordinate x, real\n",
      "                  coef binary operation '-', real\n",
      "                    coef 1, real\n",
      "                    coef coordinate x, real\n",
      "            coef binary operation '*', real\n",
      "              coef binary operation '*', real\n",
      "                coef coordinate x, real\n",
      "                coef binary operation '-', real\n",
      "                  coef 1, real\n",
      "                  coef coordinate x, real\n",
      "              coef binary operation '*', real\n",
      "                coef binary operation '+', real\n",
      "                  coef binary operation '+', real\n",
      "                    coef binary operation '*', real\n",
      "                      coef binary operation '*', real\n",
      "                        coef binary operation '*', real\n",
      "                          coef coordinate x, real\n",
      "                          coef binary operation '-', real\n",
      "                            coef 1, real\n",
      "                            coef coordinate x, real\n",
      "                        coef coordinate y, real\n",
      "                      coef binary operation '*', real\n",
      "                        coef binary operation '*', real\n",
      "                          coef coordinate x, real\n",
      "                          coef binary operation '-', real\n",
      "                            coef 1, real\n",
      "                            coef coordinate x, real\n",
      "                        coef coordinate y, real\n",
      "                    coef binary operation '*', real\n",
      "                      coef binary operation '*', real\n",
      "                        coef binary operation '*', real\n",
      "                          coef coordinate x, real\n",
      "                          coef binary operation '-', real\n",
      "                            coef 1, real\n",
      "                            coef coordinate x, real\n",
      "                        coef coordinate y, real\n",
      "                      coef binary operation '*', real\n",
      "                        coef coordinate x, real\n",
      "                        coef binary operation '-', real\n",
      "                          coef 1, real\n",
      "                          coef coordinate x, real\n",
      "                  coef binary operation '*', real\n",
      "                    coef binary operation '*', real\n",
      "                      coef coordinate x, real\n",
      "                      coef binary operation '-', real\n",
      "                        coef 1, real\n",
      "                        coef coordinate x, real\n",
      "                    coef binary operation '*', real\n",
      "                      coef coordinate x, real\n",
      "                      coef binary operation '-', real\n",
      "                        coef 1, real\n",
      "                        coef coordinate x, real\n",
      "                coef binary operation '+', real\n",
      "                  coef binary operation '+', real\n",
      "                    coef binary operation '*', real\n",
      "                      coef binary operation '*', real\n",
      "                        coef binary operation '*', real\n",
      "                          coef coordinate x, real\n",
      "                          coef binary operation '-', real\n",
      "                            coef 1, real\n",
      "                            coef coordinate x, real\n",
      "                        coef coordinate y, real\n",
      "                      coef binary operation '*', real\n",
      "                        coef binary operation '*', real\n",
      "                          coef coordinate x, real\n",
      "                          coef binary operation '-', real\n",
      "                            coef 1, real\n",
      "                            coef coordinate x, real\n",
      "                        coef coordinate y, real\n",
      "                    coef binary operation '*', real\n",
      "                      coef binary operation '*', real\n",
      "                        coef binary operation '*', real\n",
      "                          coef coordinate x, real\n",
      "                          coef binary operation '-', real\n",
      "                            coef 1, real\n",
      "                            coef coordinate x, real\n",
      "                        coef coordinate y, real\n",
      "                      coef binary operation '*', real\n",
      "                        coef coordinate x, real\n",
      "                        coef binary operation '-', real\n",
      "                          coef 1, real\n",
      "                          coef coordinate x, real\n",
      "                  coef binary operation '*', real\n",
      "                    coef binary operation '*', real\n",
      "                      coef coordinate x, real\n",
      "                      coef binary operation '-', real\n",
      "                        coef 1, real\n",
      "                        coef coordinate x, real\n",
      "                    coef binary operation '*', real\n",
      "                      coef coordinate x, real\n",
      "                      coef binary operation '-', real\n",
      "                        coef 1, real\n",
      "                        coef coordinate x, real\n",
      "          coef binary operation '*', real\n",
      "            coef binary operation '*', real\n",
      "              coef coordinate x, real\n",
      "              coef binary operation '-', real\n",
      "                coef 1, real\n",
      "                coef coordinate x, real\n",
      "            coef binary operation '*', real\n",
      "              coef coordinate x, real\n",
      "              coef binary operation '-', real\n",
      "                coef 1, real\n",
      "                coef coordinate x, real\n",
      "        coef binary operation '*', real\n",
      "          coef binary operation '*', real\n",
      "            coef binary operation '*', real\n",
      "              coef coordinate x, real\n",
      "              coef binary operation '-', real\n",
      "                coef 1, real\n",
      "                coef coordinate x, real\n",
      "            coef coordinate y, real\n",
      "          coef binary operation '*', real\n",
      "            coef binary operation '*', real\n",
      "              coef coordinate x, real\n",
      "              coef binary operation '-', real\n",
      "                coef 1, real\n",
      "                coef coordinate x, real\n",
      "            coef coordinate y, real\n",
      "      coef binary operation '*', real\n",
      "        coef binary operation '+', real\n",
      "          coef binary operation '+', real\n",
      "            coef binary operation '*', real\n",
      "              coef binary operation '*', real\n",
      "                coef binary operation '*', real\n",
      "                  coef coordinate x, real\n",
      "                  coef binary operation '-', real\n",
      "                    coef 1, real\n",
      "                    coef coordinate x, real\n",
      "                coef coordinate y, real\n",
      "              coef binary operation '*', real\n",
      "                coef binary operation '*', real\n",
      "                  coef coordinate x, real\n",
      "                  coef binary operation '-', real\n",
      "                    coef 1, real\n",
      "                    coef coordinate x, real\n",
      "                coef coordinate y, real\n",
      "            coef binary operation '*', real\n",
      "              coef binary operation '*', real\n",
      "                coef binary operation '*', real\n",
      "                  coef coordinate x, real\n",
      "                  coef binary operation '-', real\n",
      "                    coef 1, real\n",
      "                    coef coordinate x, real\n",
      "                coef coordinate y, real\n",
      "              coef binary operation '*', real\n",
      "                coef coordinate x, real\n",
      "                coef binary operation '-', real\n",
      "                  coef 1, real\n",
      "                  coef coordinate x, real\n",
      "          coef binary operation '*', real\n",
      "            coef binary operation '*', real\n",
      "              coef coordinate x, real\n",
      "              coef binary operation '-', real\n",
      "                coef 1, real\n",
      "                coef coordinate x, real\n",
      "            coef binary operation '*', real\n",
      "              coef coordinate x, real\n",
      "              coef binary operation '-', real\n",
      "                coef 1, real\n",
      "                coef coordinate x, real\n",
      "        coef binary operation '+', real\n",
      "          coef binary operation '+', real\n",
      "            coef binary operation '*', real\n",
      "              coef binary operation '*', real\n",
      "                coef binary operation '*', real\n",
      "                  coef coordinate x, real\n",
      "                  coef binary operation '-', real\n",
      "                    coef 1, real\n",
      "                    coef coordinate x, real\n",
      "                coef coordinate y, real\n",
      "              coef binary operation '*', real\n",
      "                coef binary operation '*', real\n",
      "                  coef coordinate x, real\n",
      "                  coef binary operation '-', real\n",
      "                    coef 1, real\n",
      "                    coef coordinate x, real\n",
      "                coef coordinate y, real\n",
      "            coef binary operation '*', real\n",
      "              coef binary operation '*', real\n",
      "                coef binary operation '*', real\n",
      "                  coef coordinate x, real\n",
      "                  coef binary operation '-', real\n",
      "                    coef 1, real\n",
      "                    coef coordinate x, real\n",
      "                coef coordinate y, real\n",
      "              coef binary operation '*', real\n",
      "                coef coordinate x, real\n",
      "                coef binary operation '-', real\n",
      "                  coef 1, real\n",
      "                  coef coordinate x, real\n",
      "          coef binary operation '*', real\n",
      "            coef binary operation '*', real\n",
      "              coef coordinate x, real\n",
      "              coef binary operation '-', real\n",
      "                coef 1, real\n",
      "                coef coordinate x, real\n",
      "            coef binary operation '*', real\n",
      "              coef coordinate x, real\n",
      "              coef binary operation '-', real\n",
      "                coef 1, real\n",
      "                coef coordinate x, real\n",
      "    coef binary operation '+', real\n",
      "      coef binary operation '+', real\n",
      "        coef binary operation '+', real\n",
      "          coef binary operation '+', real\n",
      "            coef binary operation '*', real\n",
      "              coef binary operation '*', real\n",
      "                coef binary operation '*', real\n",
      "                  coef binary operation '+', real\n",
      "                    coef binary operation '+', real\n",
      "                      coef binary operation '*', real\n",
      "                        coef binary operation '*', real\n",
      "                          coef binary operation '*', real\n",
      "                            coef coordinate x, real\n",
      "                            coef binary operation '-', real\n",
      "                              coef 1, real\n",
      "                              coef coordinate x, real\n",
      "                          coef coordinate y, real\n",
      "                        coef binary operation '*', real\n",
      "                          coef binary operation '*', real\n",
      "                            coef coordinate x, real\n",
      "                            coef binary operation '-', real\n",
      "                              coef 1, real\n",
      "                              coef coordinate x, real\n",
      "                          coef coordinate y, real\n",
      "                      coef binary operation '*', real\n",
      "                        coef binary operation '*', real\n",
      "                          coef binary operation '*', real\n",
      "                            coef coordinate x, real\n",
      "                            coef binary operation '-', real\n",
      "                              coef 1, real\n",
      "                              coef coordinate x, real\n",
      "                          coef coordinate y, real\n",
      "                        coef binary operation '*', real\n",
      "                          coef coordinate x, real\n",
      "                          coef binary operation '-', real\n",
      "                            coef 1, real\n",
      "                            coef coordinate x, real\n",
      "                    coef binary operation '*', real\n",
      "                      coef binary operation '*', real\n",
      "                        coef coordinate x, real\n",
      "                        coef binary operation '-', real\n",
      "                          coef 1, real\n",
      "                          coef coordinate x, real\n",
      "                      coef binary operation '*', real\n",
      "                        coef coordinate x, real\n",
      "                        coef binary operation '-', real\n",
      "                          coef 1, real\n",
      "                          coef coordinate x, real\n",
      "                  coef binary operation '+', real\n",
      "                    coef binary operation '+', real\n",
      "                      coef binary operation '*', real\n",
      "                        coef binary operation '*', real\n",
      "                          coef binary operation '*', real\n",
      "                            coef coordinate x, real\n",
      "                            coef binary operation '-', real\n",
      "                              coef 1, real\n",
      "                              coef coordinate x, real\n",
      "                          coef coordinate y, real\n",
      "                        coef binary operation '*', real\n",
      "                          coef binary operation '*', real\n",
      "                            coef coordinate x, real\n",
      "                            coef binary operation '-', real\n",
      "                              coef 1, real\n",
      "                              coef coordinate x, real\n",
      "                          coef coordinate y, real\n",
      "                      coef binary operation '*', real\n",
      "                        coef binary operation '*', real\n",
      "                          coef binary operation '*', real\n",
      "                            coef coordinate x, real\n",
      "                            coef binary operation '-', real\n",
      "                              coef 1, real\n",
      "                              coef coordinate x, real\n",
      "                          coef coordinate y, real\n",
      "                        coef binary operation '*', real\n",
      "                          coef coordinate x, real\n",
      "                          coef binary operation '-', real\n",
      "                            coef 1, real\n",
      "                            coef coordinate x, real\n",
      "                    coef binary operation '*', real\n",
      "                      coef binary operation '*', real\n",
      "                        coef coordinate x, real\n",
      "                        coef binary operation '-', real\n",
      "                          coef 1, real\n",
      "                          coef coordinate x, real\n",
      "                      coef binary operation '*', real\n",
      "                        coef coordinate x, real\n",
      "                        coef binary operation '-', real\n",
      "                          coef 1, real\n",
      "                          coef coordinate x, real\n",
      "                coef binary operation '+', real\n",
      "                  coef binary operation '+', real\n",
      "                    coef binary operation '*', real\n",
      "                      coef binary operation '*', real\n",
      "                        coef binary operation '*', real\n",
      "                          coef coordinate x, real\n",
      "                          coef binary operation '-', real\n",
      "                            coef 1, real\n",
      "                            coef coordinate x, real\n",
      "                        coef coordinate y, real\n",
      "                      coef binary operation '*', real\n",
      "                        coef binary operation '*', real\n",
      "                          coef coordinate x, real\n",
      "                          coef binary operation '-', real\n",
      "                            coef 1, real\n",
      "                            coef coordinate x, real\n",
      "                        coef coordinate y, real\n",
      "                    coef binary operation '*', real\n",
      "                      coef binary operation '*', real\n",
      "                        coef binary operation '*', real\n",
      "                          coef coordinate x, real\n",
      "                          coef binary operation '-', real\n",
      "                            coef 1, real\n",
      "                            coef coordinate x, real\n",
      "                        coef coordinate y, real\n",
      "                      coef binary operation '*', real\n",
      "                        coef coordinate x, real\n",
      "                        coef binary operation '-', real\n",
      "                          coef 1, real\n",
      "                          coef coordinate x, real\n",
      "                  coef binary operation '*', real\n",
      "                    coef binary operation '*', real\n",
      "                      coef coordinate x, real\n",
      "                      coef binary operation '-', real\n",
      "                        coef 1, real\n",
      "                        coef coordinate x, real\n",
      "                    coef binary operation '*', real\n",
      "                      coef coordinate x, real\n",
      "                      coef binary operation '-', real\n",
      "                        coef 1, real\n",
      "                        coef coordinate x, real\n",
      "              coef binary operation '*', real\n",
      "                coef binary operation '*', real\n",
      "                  coef coordinate x, real\n",
      "                  coef binary operation '-', real\n",
      "                    coef 1, real\n",
      "                    coef coordinate x, real\n",
      "                coef binary operation '*', real\n",
      "                  coef coordinate x, real\n",
      "                  coef binary operation '-', real\n",
      "                    coef 1, real\n",
      "                    coef coordinate x, real\n",
      "            coef binary operation '*', real\n",
      "              coef binary operation '*', real\n",
      "                coef coordinate x, real\n",
      "                coef binary operation '-', real\n",
      "                  coef 1, real\n",
      "                  coef coordinate x, real\n",
      "              coef binary operation '*', real\n",
      "                coef binary operation '+', real\n",
      "                  coef binary operation '+', real\n",
      "                    coef binary operation '*', real\n",
      "                      coef binary operation '*', real\n",
      "                        coef binary operation '*', real\n",
      "                          coef coordinate x, real\n",
      "                          coef binary operation '-', real\n",
      "                            coef 1, real\n",
      "                            coef coordinate x, real\n",
      "                        coef coordinate y, real\n",
      "                      coef binary operation '*', real\n",
      "                        coef binary operation '*', real\n",
      "                          coef coordinate x, real\n",
      "                          coef binary operation '-', real\n",
      "                            coef 1, real\n",
      "                            coef coordinate x, real\n",
      "                        coef coordinate y, real\n",
      "                    coef binary operation '*', real\n",
      "                      coef binary operation '*', real\n",
      "                        coef binary operation '*', real\n",
      "                          coef coordinate x, real\n",
      "                          coef binary operation '-', real\n",
      "                            coef 1, real\n",
      "                            coef coordinate x, real\n",
      "                        coef coordinate y, real\n",
      "                      coef binary operation '*', real\n",
      "                        coef coordinate x, real\n",
      "                        coef binary operation '-', real\n",
      "                          coef 1, real\n",
      "                          coef coordinate x, real\n",
      "                  coef binary operation '*', real\n",
      "                    coef binary operation '*', real\n",
      "                      coef coordinate x, real\n",
      "                      coef binary operation '-', real\n",
      "                        coef 1, real\n",
      "                        coef coordinate x, real\n",
      "                    coef binary operation '*', real\n",
      "                      coef coordinate x, real\n",
      "                      coef binary operation '-', real\n",
      "                        coef 1, real\n",
      "                        coef coordinate x, real\n",
      "                coef binary operation '+', real\n",
      "                  coef binary operation '+', real\n",
      "                    coef binary operation '*', real\n",
      "                      coef binary operation '*', real\n",
      "                        coef binary operation '*', real\n",
      "                          coef coordinate x, real\n",
      "                          coef binary operation '-', real\n",
      "                            coef 1, real\n",
      "                            coef coordinate x, real\n",
      "                        coef coordinate y, real\n",
      "                      coef binary operation '*', real\n",
      "                        coef binary operation '*', real\n",
      "                          coef coordinate x, real\n",
      "                          coef binary operation '-', real\n",
      "                            coef 1, real\n",
      "                            coef coordinate x, real\n",
      "                        coef coordinate y, real\n",
      "                    coef binary operation '*', real\n",
      "                      coef binary operation '*', real\n",
      "                        coef binary operation '*', real\n",
      "                          coef coordinate x, real\n",
      "                          coef binary operation '-', real\n",
      "                            coef 1, real\n",
      "                            coef coordinate x, real\n",
      "                        coef coordinate y, real\n",
      "                      coef binary operation '*', real\n",
      "                        coef coordinate x, real\n",
      "                        coef binary operation '-', real\n",
      "                          coef 1, real\n",
      "                          coef coordinate x, real\n",
      "                  coef binary operation '*', real\n",
      "                    coef binary operation '*', real\n",
      "                      coef coordinate x, real\n",
      "                      coef binary operation '-', real\n",
      "                        coef 1, real\n",
      "                        coef coordinate x, real\n",
      "                    coef binary operation '*', real\n",
      "                      coef coordinate x, real\n",
      "                      coef binary operation '-', real\n",
      "                        coef 1, real\n",
      "                        coef coordinate x, real\n",
      "          coef binary operation '*', real\n",
      "            coef binary operation '*', real\n",
      "              coef coordinate x, real\n",
      "              coef binary operation '-', real\n",
      "                coef 1, real\n",
      "                coef coordinate x, real\n",
      "            coef binary operation '*', real\n",
      "              coef coordinate x, real\n",
      "              coef binary operation '-', real\n",
      "                coef 1, real\n",
      "                coef coordinate x, real\n",
      "        coef binary operation '*', real\n",
      "          coef binary operation '*', real\n",
      "            coef binary operation '*', real\n",
      "              coef coordinate x, real\n",
      "              coef binary operation '-', real\n",
      "                coef 1, real\n",
      "                coef coordinate x, real\n",
      "            coef coordinate y, real\n",
      "          coef binary operation '*', real\n",
      "            coef binary operation '*', real\n",
      "              coef coordinate x, real\n",
      "              coef binary operation '-', real\n",
      "                coef 1, real\n",
      "                coef coordinate x, real\n",
      "            coef coordinate y, real\n",
      "      coef binary operation '*', real\n",
      "        coef binary operation '+', real\n",
      "          coef binary operation '+', real\n",
      "            coef binary operation '*', real\n",
      "              coef binary operation '*', real\n",
      "                coef binary operation '*', real\n",
      "                  coef coordinate x, real\n",
      "                  coef binary operation '-', real\n",
      "                    coef 1, real\n",
      "                    coef coordinate x, real\n",
      "                coef coordinate y, real\n",
      "              coef binary operation '*', real\n",
      "                coef binary operation '*', real\n",
      "                  coef coordinate x, real\n",
      "                  coef binary operation '-', real\n",
      "                    coef 1, real\n",
      "                    coef coordinate x, real\n",
      "                coef coordinate y, real\n",
      "            coef binary operation '*', real\n",
      "              coef binary operation '*', real\n",
      "                coef binary operation '*', real\n",
      "                  coef coordinate x, real\n",
      "                  coef binary operation '-', real\n",
      "                    coef 1, real\n",
      "                    coef coordinate x, real\n",
      "                coef coordinate y, real\n",
      "              coef binary operation '*', real\n",
      "                coef coordinate x, real\n",
      "                coef binary operation '-', real\n",
      "                  coef 1, real\n",
      "                  coef coordinate x, real\n",
      "          coef binary operation '*', real\n",
      "            coef binary operation '*', real\n",
      "              coef coordinate x, real\n",
      "              coef binary operation '-', real\n",
      "                coef 1, real\n",
      "                coef coordinate x, real\n",
      "            coef binary operation '*', real\n",
      "              coef coordinate x, real\n",
      "              coef binary operation '-', real\n",
      "                coef 1, real\n",
      "                coef coordinate x, real\n",
      "        coef binary operation '+', real\n",
      "          coef binary operation '+', real\n",
      "            coef binary operation '*', real\n",
      "              coef binary operation '*', real\n",
      "                coef binary operation '*', real\n",
      "                  coef coordinate x, real\n",
      "                  coef binary operation '-', real\n",
      "                    coef 1, real\n",
      "                    coef coordinate x, real\n",
      "                coef coordinate y, real\n",
      "              coef binary operation '*', real\n",
      "                coef binary operation '*', real\n",
      "                  coef coordinate x, real\n",
      "                  coef binary operation '-', real\n",
      "                    coef 1, real\n",
      "                    coef coordinate x, real\n",
      "                coef coordinate y, real\n",
      "            coef binary operation '*', real\n",
      "              coef binary operation '*', real\n",
      "                coef binary operation '*', real\n",
      "                  coef coordinate x, real\n",
      "                  coef binary operation '-', real\n",
      "                    coef 1, real\n",
      "                    coef coordinate x, real\n",
      "                coef coordinate y, real\n",
      "              coef binary operation '*', real\n",
      "                coef coordinate x, real\n",
      "                coef binary operation '-', real\n",
      "                  coef 1, real\n",
      "                  coef coordinate x, real\n",
      "          coef binary operation '*', real\n",
      "            coef binary operation '*', real\n",
      "              coef coordinate x, real\n",
      "              coef binary operation '-', real\n",
      "                coef 1, real\n",
      "                coef coordinate x, real\n",
      "            coef binary operation '*', real\n",
      "              coef coordinate x, real\n",
      "              coef binary operation '-', real\n",
      "                coef 1, real\n",
      "                coef coordinate x, real\n",
      "  coef binary operation '+', real\n",
      "    coef binary operation '+', real\n",
      "      coef binary operation '+', real\n",
      "        coef binary operation '+', real\n",
      "          coef binary operation '*', real\n",
      "            coef binary operation '*', real\n",
      "              coef binary operation '*', real\n",
      "                coef binary operation '+', real\n",
      "                  coef binary operation '+', real\n",
      "                    coef binary operation '*', real\n",
      "                      coef binary operation '*', real\n",
      "                        coef binary operation '*', real\n",
      "                          coef coordinate x, real\n",
      "                          coef binary operation '-', real\n",
      "                            coef 1, real\n",
      "                            coef coordinate x, real\n",
      "                        coef coordinate y, real\n",
      "                      coef binary operation '*', real\n",
      "                        coef binary operation '*', real\n",
      "                          coef coordinate x, real\n",
      "                          coef binary operation '-', real\n",
      "                            coef 1, real\n",
      "                            coef coordinate x, real\n",
      "                        coef coordinate y, real\n",
      "                    coef binary operation '*', real\n",
      "                      coef binary operation '*', real\n",
      "                        coef binary operation '*', real\n",
      "                          coef coordinate x, real\n",
      "                          coef binary operation '-', real\n",
      "                            coef 1, real\n",
      "                            coef coordinate x, real\n",
      "                        coef coordinate y, real\n",
      "                      coef binary operation '*', real\n",
      "                        coef coordinate x, real\n",
      "                        coef binary operation '-', real\n",
      "                          coef 1, real\n",
      "                          coef coordinate x, real\n",
      "                  coef binary operation '*', real\n",
      "                    coef binary operation '*', real\n",
      "                      coef coordinate x, real\n",
      "                      coef binary operation '-', real\n",
      "                        coef 1, real\n",
      "                        coef coordinate x, real\n",
      "                    coef binary operation '*', real\n",
      "                      coef coordinate x, real\n",
      "                      coef binary operation '-', real\n",
      "                        coef 1, real\n",
      "                        coef coordinate x, real\n",
      "                coef binary operation '+', real\n",
      "                  coef binary operation '+', real\n",
      "                    coef binary operation '*', real\n",
      "                      coef binary operation '*', real\n",
      "                        coef binary operation '*', real\n",
      "                          coef coordinate x, real\n",
      "                          coef binary operation '-', real\n",
      "                            coef 1, real\n",
      "                            coef coordinate x, real\n",
      "                        coef coordinate y, real\n",
      "                      coef binary operation '*', real\n",
      "                        coef binary operation '*', real\n",
      "                          coef coordinate x, real\n",
      "                          coef binary operation '-', real\n",
      "                            coef 1, real\n",
      "                            coef coordinate x, real\n",
      "                        coef coordinate y, real\n",
      "                    coef binary operation '*', real\n",
      "                      coef binary operation '*', real\n",
      "                        coef binary operation '*', real\n",
      "                          coef coordinate x, real\n",
      "                          coef binary operation '-', real\n",
      "                            coef 1, real\n",
      "                            coef coordinate x, real\n",
      "                        coef coordinate y, real\n",
      "                      coef binary operation '*', real\n",
      "                        coef coordinate x, real\n",
      "                        coef binary operation '-', real\n",
      "                          coef 1, real\n",
      "                          coef coordinate x, real\n",
      "                  coef binary operation '*', real\n",
      "                    coef binary operation '*', real\n",
      "                      coef coordinate x, real\n",
      "                      coef binary operation '-', real\n",
      "                        coef 1, real\n",
      "                        coef coordinate x, real\n",
      "                    coef binary operation '*', real\n",
      "                      coef coordinate x, real\n",
      "                      coef binary operation '-', real\n",
      "                        coef 1, real\n",
      "                        coef coordinate x, real\n",
      "              coef binary operation '+', real\n",
      "                coef binary operation '+', real\n",
      "                  coef binary operation '*', real\n",
      "                    coef binary operation '*', real\n",
      "                      coef binary operation '*', real\n",
      "                        coef coordinate x, real\n",
      "                        coef binary operation '-', real\n",
      "                          coef 1, real\n",
      "                          coef coordinate x, real\n",
      "                      coef coordinate y, real\n",
      "                    coef binary operation '*', real\n",
      "                      coef binary operation '*', real\n",
      "                        coef coordinate x, real\n",
      "                        coef binary operation '-', real\n",
      "                          coef 1, real\n",
      "                          coef coordinate x, real\n",
      "                      coef coordinate y, real\n",
      "                  coef binary operation '*', real\n",
      "                    coef binary operation '*', real\n",
      "                      coef binary operation '*', real\n",
      "                        coef coordinate x, real\n",
      "                        coef binary operation '-', real\n",
      "                          coef 1, real\n",
      "                          coef coordinate x, real\n",
      "                      coef coordinate y, real\n",
      "                    coef binary operation '*', real\n",
      "                      coef coordinate x, real\n",
      "                      coef binary operation '-', real\n",
      "                        coef 1, real\n",
      "                        coef coordinate x, real\n",
      "                coef binary operation '*', real\n",
      "                  coef binary operation '*', real\n",
      "                    coef coordinate x, real\n",
      "                    coef binary operation '-', real\n",
      "                      coef 1, real\n",
      "                      coef coordinate x, real\n",
      "                  coef binary operation '*', real\n",
      "                    coef coordinate x, real\n",
      "                    coef binary operation '-', real\n",
      "                      coef 1, real\n",
      "                      coef coordinate x, real\n",
      "            coef binary operation '*', real\n",
      "              coef binary operation '*', real\n",
      "                coef coordinate x, real\n",
      "                coef binary operation '-', real\n",
      "                  coef 1, real\n",
      "                  coef coordinate x, real\n",
      "              coef binary operation '*', real\n",
      "                coef coordinate x, real\n",
      "                coef binary operation '-', real\n",
      "                  coef 1, real\n",
      "                  coef coordinate x, real\n",
      "          coef binary operation '*', real\n",
      "            coef binary operation '*', real\n",
      "              coef coordinate x, real\n",
      "              coef binary operation '-', real\n",
      "                coef 1, real\n",
      "                coef coordinate x, real\n",
      "            coef binary operation '*', real\n",
      "              coef binary operation '+', real\n",
      "                coef binary operation '+', real\n",
      "                  coef binary operation '*', real\n",
      "                    coef binary operation '*', real\n",
      "                      coef binary operation '*', real\n",
      "                        coef coordinate x, real\n",
      "                        coef binary operation '-', real\n",
      "                          coef 1, real\n",
      "                          coef coordinate x, real\n",
      "                      coef coordinate y, real\n",
      "                    coef binary operation '*', real\n",
      "                      coef binary operation '*', real\n",
      "                        coef coordinate x, real\n",
      "                        coef binary operation '-', real\n",
      "                          coef 1, real\n",
      "                          coef coordinate x, real\n",
      "                      coef coordinate y, real\n",
      "                  coef binary operation '*', real\n",
      "                    coef binary operation '*', real\n",
      "                      coef binary operation '*', real\n",
      "                        coef coordinate x, real\n",
      "                        coef binary operation '-', real\n",
      "                          coef 1, real\n",
      "                          coef coordinate x, real\n",
      "                      coef coordinate y, real\n",
      "                    coef binary operation '*', real\n",
      "                      coef coordinate x, real\n",
      "                      coef binary operation '-', real\n",
      "                        coef 1, real\n",
      "                        coef coordinate x, real\n",
      "                coef binary operation '*', real\n",
      "                  coef binary operation '*', real\n",
      "                    coef coordinate x, real\n",
      "                    coef binary operation '-', real\n",
      "                      coef 1, real\n",
      "                      coef coordinate x, real\n",
      "                  coef binary operation '*', real\n",
      "                    coef coordinate x, real\n",
      "                    coef binary operation '-', real\n",
      "                      coef 1, real\n",
      "                      coef coordinate x, real\n",
      "              coef binary operation '+', real\n",
      "                coef binary operation '+', real\n",
      "                  coef binary operation '*', real\n",
      "                    coef binary operation '*', real\n",
      "                      coef binary operation '*', real\n",
      "                        coef coordinate x, real\n",
      "                        coef binary operation '-', real\n",
      "                          coef 1, real\n",
      "                          coef coordinate x, real\n",
      "                      coef coordinate y, real\n",
      "                    coef binary operation '*', real\n",
      "                      coef binary operation '*', real\n",
      "                        coef coordinate x, real\n",
      "                        coef binary operation '-', real\n",
      "                          coef 1, real\n",
      "                          coef coordinate x, real\n",
      "                      coef coordinate y, real\n",
      "                  coef binary operation '*', real\n",
      "                    coef binary operation '*', real\n",
      "                      coef binary operation '*', real\n",
      "                        coef coordinate x, real\n",
      "                        coef binary operation '-', real\n",
      "                          coef 1, real\n",
      "                          coef coordinate x, real\n",
      "                      coef coordinate y, real\n",
      "                    coef binary operation '*', real\n",
      "                      coef coordinate x, real\n",
      "                      coef binary operation '-', real\n",
      "                        coef 1, real\n",
      "                        coef coordinate x, real\n",
      "                coef binary operation '*', real\n",
      "                  coef binary operation '*', real\n",
      "                    coef coordinate x, real\n",
      "                    coef binary operation '-', real\n",
      "                      coef 1, real\n",
      "                      coef coordinate x, real\n",
      "                  coef binary operation '*', real\n",
      "                    coef coordinate x, real\n",
      "                    coef binary operation '-', real\n",
      "                      coef 1, real\n",
      "                      coef coordinate x, real\n",
      "        coef binary operation '*', real\n",
      "          coef binary operation '*', real\n",
      "            coef coordinate x, real\n",
      "            coef binary operation '-', real\n",
      "              coef 1, real\n",
      "              coef coordinate x, real\n",
      "          coef binary operation '*', real\n",
      "            coef coordinate x, real\n",
      "            coef binary operation '-', real\n",
      "              coef 1, real\n",
      "              coef coordinate x, real\n",
      "      coef binary operation '*', real\n",
      "        coef binary operation '*', real\n",
      "          coef binary operation '*', real\n",
      "            coef coordinate x, real\n",
      "            coef binary operation '-', real\n",
      "              coef 1, real\n",
      "              coef coordinate x, real\n",
      "          coef coordinate y, real\n",
      "        coef binary operation '*', real\n",
      "          coef binary operation '*', real\n",
      "            coef coordinate x, real\n",
      "            coef binary operation '-', real\n",
      "              coef 1, real\n",
      "              coef coordinate x, real\n",
      "          coef coordinate y, real\n",
      "    coef binary operation '*', real\n",
      "      coef binary operation '+', real\n",
      "        coef binary operation '+', real\n",
      "          coef binary operation '*', real\n",
      "            coef binary operation '*', real\n",
      "              coef binary operation '*', real\n",
      "                coef coordinate x, real\n",
      "                coef binary operation '-', real\n",
      "                  coef 1, real\n",
      "                  coef coordinate x, real\n",
      "              coef coordinate y, real\n",
      "            coef binary operation '*', real\n",
      "              coef binary operation '*', real\n",
      "                coef coordinate x, real\n",
      "                coef binary operation '-', real\n",
      "                  coef 1, real\n",
      "                  coef coordinate x, real\n",
      "              coef coordinate y, real\n",
      "          coef binary operation '*', real\n",
      "            coef binary operation '*', real\n",
      "              coef binary operation '*', real\n",
      "                coef coordinate x, real\n",
      "                coef binary operation '-', real\n",
      "                  coef 1, real\n",
      "                  coef coordinate x, real\n",
      "              coef coordinate y, real\n",
      "            coef binary operation '*', real\n",
      "              coef coordinate x, real\n",
      "              coef binary operation '-', real\n",
      "                coef 1, real\n",
      "                coef coordinate x, real\n",
      "        coef binary operation '*', real\n",
      "          coef binary operation '*', real\n",
      "            coef coordinate x, real\n",
      "            coef binary operation '-', real\n",
      "              coef 1, real\n",
      "              coef coordinate x, real\n",
      "          coef binary operation '*', real\n",
      "            coef coordinate x, real\n",
      "            coef binary operation '-', real\n",
      "              coef 1, real\n",
      "              coef coordinate x, real\n",
      "      coef binary operation '+', real\n",
      "        coef binary operation '+', real\n",
      "          coef binary operation '*', real\n",
      "            coef binary operation '*', real\n",
      "              coef binary operation '*', real\n",
      "                coef coordinate x, real\n",
      "                coef binary operation '-', real\n",
      "                  coef 1, real\n",
      "                  coef coordinate x, real\n",
      "              coef coordinate y, real\n",
      "            coef binary operation '*', real\n",
      "              coef binary operation '*', real\n",
      "                coef coordinate x, real\n",
      "                coef binary operation '-', real\n",
      "                  coef 1, real\n",
      "                  coef coordinate x, real\n",
      "              coef coordinate y, real\n",
      "          coef binary operation '*', real\n",
      "            coef binary operation '*', real\n",
      "              coef binary operation '*', real\n",
      "                coef coordinate x, real\n",
      "                coef binary operation '-', real\n",
      "                  coef 1, real\n",
      "                  coef coordinate x, real\n",
      "              coef coordinate y, real\n",
      "            coef binary operation '*', real\n",
      "              coef coordinate x, real\n",
      "              coef binary operation '-', real\n",
      "                coef 1, real\n",
      "                coef coordinate x, real\n",
      "        coef binary operation '*', real\n",
      "          coef binary operation '*', real\n",
      "            coef coordinate x, real\n",
      "            coef binary operation '-', real\n",
      "              coef 1, real\n",
      "              coef coordinate x, real\n",
      "          coef binary operation '*', real\n",
      "            coef coordinate x, real\n",
      "            coef binary operation '-', real\n",
      "              coef 1, real\n",
      "              coef coordinate x, real\n",
      "\n"
     ]
    }
   ],
   "source": [
    "print(final)"
   ]
  },
  {
   "cell_type": "code",
   "execution_count": null,
   "metadata": {},
   "outputs": [],
   "source": []
  }
 ],
 "metadata": {
  "kernelspec": {
   "display_name": "Python 3 (ipykernel)",
   "language": "python",
   "name": "python3"
  },
  "language_info": {
   "codemirror_mode": {
    "name": "ipython",
    "version": 3
   },
   "file_extension": ".py",
   "mimetype": "text/x-python",
   "name": "python",
   "nbconvert_exporter": "python",
   "pygments_lexer": "ipython3",
   "version": "3.10.6"
  }
 },
 "nbformat": 4,
 "nbformat_minor": 4
}
