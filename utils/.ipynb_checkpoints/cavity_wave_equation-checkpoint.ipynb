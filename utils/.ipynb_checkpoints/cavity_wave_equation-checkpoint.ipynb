{
 "cells": [
  {
   "cell_type": "code",
   "execution_count": 1,
   "id": "1a88b987",
   "metadata": {
    "scrolled": false
   },
   "outputs": [
    {
     "data": {
      "application/vnd.jupyter.widget-view+json": {
       "model_id": "e6d44c06fad74ff2bb6cc1cc67c1f941",
       "version_major": 2,
       "version_minor": 0
      },
      "text/plain": [
       "WebGuiWidget(layout=Layout(height='50vh', width='100%'), value={'gui_settings': {}, 'ngsolve_version': '6.2.23…"
      ]
     },
     "metadata": {},
     "output_type": "display_data"
    },
    {
     "data": {
      "text/plain": [
       "BaseWebGuiScene"
      ]
     },
     "execution_count": 1,
     "metadata": {},
     "output_type": "execute_result"
    }
   ],
   "source": [
    "from ngsolve import *\n",
    "from ngsolve.webgui import Draw\n",
    "from netgen.occ import *\n",
    "import pandas as pd\n",
    "import numpy as np\n",
    "import matplotlib.pyplot as plt\n",
    "import scipy\n",
    "\n",
    "mu0 = 4*pi*1e-7\n",
    "eps0 = 8.85418782e-12\n",
    "c0 = 299792458\n",
    "\n",
    "# define geometry\n",
    "cav_geom = pd.read_csv('geodata.n', \n",
    "                       header=None, skiprows=3, skipfooter=1, sep='\\s+', engine='python')[[1, 0]]\n",
    "\n",
    "pnts = list(cav_geom.itertuples(index=False, name=None))\n",
    "\n",
    "wp = WorkPlane()\n",
    "wp.MoveTo(*pnts[0])\n",
    "for p in pnts[1:]:\n",
    "  wp.LineTo(*p)\n",
    "wp.Close().Reverse()\n",
    "face = wp.Face()\n",
    "\n",
    "# name the boundaries\n",
    "face.edges.Max(X).name =  \"r\"\n",
    "face.edges.Max(X).col = (1,0,0)\n",
    "face.edges.Min(X).name = \"l\"\n",
    "face.edges.Min(X).col = (1,0,0)\n",
    "face.edges.Min(Y).name = \"b\"\n",
    "face.edges.Min(Y).col = (1,0,0)\n",
    "\n",
    "wp = WorkPlane()\n",
    "geo = OCCGeometry(face, dim=2)\n",
    "# Draw(face)\n",
    "\n",
    "# vol = face.Revolve(Axis((0,0,0), X), 360)\n",
    "# Draw(vol)\n",
    "# geo = OCCGeometry(vol, dim=3)\n",
    "\n",
    "# mesh\n",
    "ngmesh = geo.GenerateMesh(maxh=0.01)\n",
    "mesh = Mesh(ngmesh)\n",
    "Draw(mesh)"
   ]
  },
  {
   "cell_type": "code",
   "execution_count": null,
   "id": "16a5f173",
   "metadata": {
    "scrolled": false
   },
   "outputs": [
    {
     "name": "stdout",
     "output_type": "stream",
     "text": [
      "here0\n",
      "here1\n",
      "here2\n",
      "her3e\n",
      "here4\n"
     ]
    }
   ],
   "source": [
    "fes = VectorH1(mesh, order=3, dirichlet=\"default\")\n",
    "fes_rho = H1(mesh, order=3) \n",
    "\n",
    "u, v = fes.TnT()\n",
    "\n",
    "a = BilinearForm(fes, symmetric=False)\n",
    "a += InnerProduct(grad(u), grad(v))*dx\n",
    "a.Assemble()\n",
    "\n",
    "m = BilinearForm(fes, symmetric=False)\n",
    "m += u*v*dx\n",
    "m.Assemble()\n",
    "\n",
    "# bunch parameters\n",
    "t = Parameter(1e-9)\n",
    "s = x - c0*t\n",
    "qtotal = 1e-9 # Coloumb\n",
    "sigma = 10*1e-3  # bunch length\n",
    "sigma_y = 1e-3\n",
    "lamb = 1/((y+sigma_y)*(2*pi)**0.5*sigma)*exp(-s**2/(2*sigma**2))\n",
    "\n",
    "print('here0')\n",
    "f = BilinearForm(fes_rho)\n",
    "print('here1')\n",
    "gauss_bunch = qtotal*lamb\n",
    "gfu = GridFunction(fes_rho)\n",
    "gfu.Set(gauss_bunch)\n",
    "print('here2')\n",
    "f += 1/eps0*grad(gfu)* v*dx\n",
    "print('her3e')\n",
    "# Draw(gfu, mesh, \"rho\")\n",
    "print('here4')\n",
    "f.Assemble()\n",
    "\n",
    "\n",
    "# dt = 0.001\n",
    "# mstar = m.mat.CreateMatrix()\n",
    "# mstar.AsVector().data = m.mat.AsVector()\n",
    "# # corresponds to M* = M + dt * A\n",
    "# invmstar = mstar.Inverse(freedofs=fes.FreeDofs())\n",
    "\n",
    "# gfu = GridFunction(fes)\n",
    "# res = dt * f.vec - dt * a.mat * gfu.vec\n",
    "# gfu.vec.data += invmstar * res"
   ]
  },
  {
   "cell_type": "code",
   "execution_count": null,
   "id": "2aa9f7ad",
   "metadata": {},
   "outputs": [],
   "source": [
    "def TimeStepping(invmstar, initial_cond = None, t0 = 0, tend = 2,\n",
    "                 nsamples = 10):\n",
    "    if initial_cond:\n",
    "        gfu.Set(initial_cond)\n",
    "    cnt = 0; time = t0\n",
    "    sample_int = int(floor(tend / dt / nsamples)+1)\n",
    "    gfut = GridFunction(gfu.space,multidim=0)\n",
    "    gfut.AddMultiDimComponent(gfu.vec)\n",
    "    while time < tend - 0.5 * dt:\n",
    "        res = dt * f.vec - dt * a.mat * gfu.vec\n",
    "        gfu.vec.data += invmstar * res\n",
    "        print(\"\\r\",time,end=\"\")\n",
    "        scene.Redraw()\n",
    "        if cnt % sample_int == 0:\n",
    "            gfut.AddMultiDimComponent(gfu.vec)\n",
    "        cnt += 1; time = cnt * dt\n",
    "    return gfut\n",
    "\n",
    "gfut = TimeStepping(invmstar, (1-y*y)*x)"
   ]
  },
  {
   "cell_type": "code",
   "execution_count": null,
   "id": "a7c722d9",
   "metadata": {},
   "outputs": [],
   "source": [
    "Draw(gfut, mesh, interpolate_multidim=True, animate=True)"
   ]
  }
 ],
 "metadata": {
  "kernelspec": {
   "display_name": "Python 3 (ipykernel)",
   "language": "python",
   "name": "python3"
  },
  "language_info": {
   "codemirror_mode": {
    "name": "ipython",
    "version": 3
   },
   "file_extension": ".py",
   "mimetype": "text/x-python",
   "name": "python",
   "nbconvert_exporter": "python",
   "pygments_lexer": "ipython3",
   "version": "3.10.6"
  }
 },
 "nbformat": 4,
 "nbformat_minor": 5
}
