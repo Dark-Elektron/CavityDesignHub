{
 "cells": [
  {
   "cell_type": "code",
   "execution_count": 45,
   "id": "1a88b987",
   "metadata": {
    "scrolled": false
   },
   "outputs": [
    {
     "data": {
      "application/vnd.jupyter.widget-view+json": {
       "model_id": "803f4d3d4f594ce8845ec9ce46489c13",
       "version_major": 2,
       "version_minor": 0
      },
      "text/plain": [
       "WebGuiWidget(layout=Layout(height='50vh', width='100%'), value={'gui_settings': {}, 'ngsolve_version': '6.2.23…"
      ]
     },
     "metadata": {},
     "output_type": "display_data"
    },
    {
     "data": {
      "text/plain": [
       "BaseWebGuiScene"
      ]
     },
     "execution_count": 45,
     "metadata": {},
     "output_type": "execute_result"
    }
   ],
   "source": [
    "from ngsolve import *\n",
    "from ngsolve.webgui import Draw\n",
    "from netgen.occ import *\n",
    "import pandas as pd\n",
    "import numpy as np\n",
    "import matplotlib.pyplot as plt\n",
    "import scipy\n",
    "\n",
    "mu0 = 4*pi*1e-7\n",
    "eps0 = 8.85418782e-12\n",
    "c0 = 299792458\n",
    "\n",
    "# define geometry\n",
    "cav_geom = pd.read_csv('geodata.n', \n",
    "                       header=None, skiprows=3, skipfooter=1, sep='\\s+', engine='python')[[1, 0]]\n",
    "\n",
    "pnts = list(cav_geom.itertuples(index=False, name=None))\n",
    "\n",
    "wp = WorkPlane()\n",
    "wp.MoveTo(*pnts[0])\n",
    "for p in pnts[1:]:\n",
    "  wp.LineTo(*p)\n",
    "wp.Close().Reverse()\n",
    "face = wp.Face()\n",
    "\n",
    "# name the boundaries\n",
    "face.edges.Max(X).name =  \"r\"\n",
    "face.edges.Max(X).col = (1,0,0)\n",
    "face.edges.Min(X).name = \"l\"\n",
    "face.edges.Min(X).col = (1,0,0)\n",
    "face.edges.Min(Y).name = \"b\"\n",
    "face.edges.Min(Y).col = (1,0,0)\n",
    "\n",
    "wp = WorkPlane()\n",
    "geo = OCCGeometry(face, dim=2)\n",
    "# Draw(face)\n",
    "\n",
    "# vol = face.Revolve(Axis((0,0,0), X), 360)\n",
    "# Draw(vol)\n",
    "# geo = OCCGeometry(vol, dim=3)\n",
    "\n",
    "# mesh\n",
    "ngmesh = geo.GenerateMesh(maxh=0.01)\n",
    "mesh = Mesh(ngmesh)\n",
    "Draw(mesh)"
   ]
  },
  {
   "cell_type": "code",
   "execution_count": 79,
   "id": "16a5f173",
   "metadata": {
    "scrolled": false
   },
   "outputs": [
    {
     "data": {
      "application/vnd.jupyter.widget-view+json": {
       "model_id": "d43699ef4ccb40e1993d98dc21ede81f",
       "version_major": 2,
       "version_minor": 0
      },
      "text/plain": [
       "WebGuiWidget(layout=Layout(height='50vh', width='100%'), value={'gui_settings': {}, 'ngsolve_version': '6.2.23…"
      ]
     },
     "metadata": {},
     "output_type": "display_data"
    },
    {
     "data": {
      "text/plain": [
       "BaseWebGuiScene"
      ]
     },
     "execution_count": 79,
     "metadata": {},
     "output_type": "execute_result"
    }
   ],
   "source": [
    "fes = H1(mesh, order=3, dirichlet=\".*\")\n",
    "\n",
    "u, v = fes.TnT()\n",
    "\n",
    "a = BilinearForm(fes, symmetric=False)\n",
    "a += grad(u)*grad(v)*dx\n",
    "a.Assemble()\n",
    "\n",
    "m = BilinearForm(fes, symmetric=False)\n",
    "m += u*v*dx\n",
    "m.Assemble()\n",
    "\n",
    "# bunch parameters\n",
    "t = Parameter(1e-9)\n",
    "s = x - c0*t\n",
    "qtotal = 1e-9 # Coloumb\n",
    "sigma = 10*1e-3  # bunch length\n",
    "sigma_y = 1e-3\n",
    "lamb = 1/((y+0.001)*(2*pi)**0.5*sigma)*exp(-s**2/(2*sigma**2))\n",
    "\n",
    "f = BilinearForm(fes)\n",
    "gauss_bunch = qtotal*lamb\n",
    "Draw(gauss_bunch, mesh, \"rho\")\n",
    "# f += 1/eps0*grad(gauss_bunch)*v*dx\n",
    "# f.Assemble()"
   ]
  },
  {
   "cell_type": "code",
   "execution_count": 82,
   "id": "2aa9f7ad",
   "metadata": {},
   "outputs": [
    {
     "ename": "NameError",
     "evalue": "name 'invmstar' is not defined",
     "output_type": "error",
     "traceback": [
      "\u001b[1;31m---------------------------------------------------------------------------\u001b[0m",
      "\u001b[1;31mNameError\u001b[0m                                 Traceback (most recent call last)",
      "Cell \u001b[1;32mIn[82], line 19\u001b[0m\n\u001b[0;32m     16\u001b[0m         cnt \u001b[38;5;241m+\u001b[39m\u001b[38;5;241m=\u001b[39m \u001b[38;5;241m1\u001b[39m; time \u001b[38;5;241m=\u001b[39m cnt \u001b[38;5;241m*\u001b[39m dt\n\u001b[0;32m     17\u001b[0m     \u001b[38;5;28;01mreturn\u001b[39;00m gfut\n\u001b[1;32m---> 19\u001b[0m gfut \u001b[38;5;241m=\u001b[39m TimeStepping(\u001b[43minvmstar\u001b[49m, (\u001b[38;5;241m1\u001b[39m\u001b[38;5;241m-\u001b[39my\u001b[38;5;241m*\u001b[39my)\u001b[38;5;241m*\u001b[39mx)\n",
      "\u001b[1;31mNameError\u001b[0m: name 'invmstar' is not defined"
     ]
    }
   ],
   "source": [
    "def TimeStepping(invmstar, initial_cond = None, t0 = 0, tend = 2,\n",
    "                 nsamples = 10):\n",
    "    if initial_cond:\n",
    "        gfu.Set(initial_cond)\n",
    "    cnt = 0; time = t0\n",
    "    sample_int = int(floor(tend / dt / nsamples)+1)\n",
    "    gfut = GridFunction(gfu.space,multidim=0)\n",
    "    gfut.AddMultiDimComponent(gfu.vec)\n",
    "    while time < tend - 0.5 * dt:\n",
    "        res = dt * f.vec - dt * a.mat * gfu.vec\n",
    "        gfu.vec.data += invmstar * res\n",
    "        print(\"\\r\",time,end=\"\")\n",
    "        scene.Redraw()\n",
    "        if cnt % sample_int == 0:\n",
    "            gfut.AddMultiDimComponent(gfu.vec)\n",
    "        cnt += 1; time = cnt * dt\n",
    "    return gfut\n",
    "\n",
    "gfut = TimeStepping(invmstar, (1-y*y)*x)"
   ]
  },
  {
   "cell_type": "code",
   "execution_count": 81,
   "id": "a7c722d9",
   "metadata": {},
   "outputs": [
    {
     "ename": "NameError",
     "evalue": "name 'gfut' is not defined",
     "output_type": "error",
     "traceback": [
      "\u001b[1;31m---------------------------------------------------------------------------\u001b[0m",
      "\u001b[1;31mNameError\u001b[0m                                 Traceback (most recent call last)",
      "Cell \u001b[1;32mIn[81], line 1\u001b[0m\n\u001b[1;32m----> 1\u001b[0m Draw(\u001b[43mgfut\u001b[49m, mesh, interpolate_multidim\u001b[38;5;241m=\u001b[39m\u001b[38;5;28;01mTrue\u001b[39;00m, animate\u001b[38;5;241m=\u001b[39m\u001b[38;5;28;01mTrue\u001b[39;00m)\n",
      "\u001b[1;31mNameError\u001b[0m: name 'gfut' is not defined"
     ]
    }
   ],
   "source": [
    "Draw(gfut, mesh, interpolate_multidim=True, animate=True)"
   ]
  }
 ],
 "metadata": {
  "kernelspec": {
   "display_name": "Python 3 (ipykernel)",
   "language": "python",
   "name": "python3"
  },
  "language_info": {
   "codemirror_mode": {
    "name": "ipython",
    "version": 3
   },
   "file_extension": ".py",
   "mimetype": "text/x-python",
   "name": "python",
   "nbconvert_exporter": "python",
   "pygments_lexer": "ipython3",
   "version": "3.10.6"
  }
 },
 "nbformat": 4,
 "nbformat_minor": 5
}
