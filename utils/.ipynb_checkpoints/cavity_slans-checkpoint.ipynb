{
 "cells": [
  {
   "cell_type": "code",
   "execution_count": 1,
   "id": "d1f10819",
   "metadata": {},
   "outputs": [
    {
     "data": {
      "application/vnd.jupyter.widget-view+json": {
       "model_id": "e0ebda9c8d774e638337c2bbf4fe738f",
       "version_major": 2,
       "version_minor": 0
      },
      "text/plain": [
       "WebGuiWidget(layout=Layout(height='50vh', width='100%'), value={'gui_settings': {}, 'ngsolve_version': '6.2.23…"
      ]
     },
     "metadata": {},
     "output_type": "display_data"
    }
   ],
   "source": [
    "from ngsolve import *\n",
    "from ngsolve.webgui import Draw\n",
    "from netgen.occ import *\n",
    "import pandas as pd\n",
    "import numpy as np\n",
    "import matplotlib.pyplot as plt\n",
    "import scipy\n",
    "\n",
    "# define geometry\n",
    "cav_geom = pd.read_csv('geodata.n', \n",
    "                       header=None, skiprows=3, skipfooter=1, sep='\\s+', engine='python')[[1, 0]]\n",
    "\n",
    "pnts = list(cav_geom.itertuples(index=False, name=None))\n",
    "\n",
    "wp = WorkPlane()\n",
    "wp.MoveTo(*pnts[0])\n",
    "for p in pnts[1:]:\n",
    "  wp.LineTo(*p)\n",
    "wp.Close().Reverse()\n",
    "face = wp.Face()\n",
    "\n",
    "# name the boundaries\n",
    "face.edges.Max(X).name =  \"r\"\n",
    "face.edges.Max(X).col = (1,0,0)\n",
    "face.edges.Min(X).name = \"l\"\n",
    "face.edges.Min(X).col = (1,0,0)\n",
    "face.edges.Min(Y).name = \"b\"\n",
    "face.edges.Min(Y).col = (1,0,0)\n",
    "\n",
    "geo = OCCGeometry(face, dim=2)\n",
    "\n",
    "ngmesh = geo.GenerateMesh(maxh=0.1)\n",
    "mesh = Mesh(ngmesh)\n",
    "\n",
    "n = specialcf.normal(mesh.dim)\n",
    "nt = specialcf.tangential(mesh.dim)\n",
    "h = specialcf.mesh_size\n",
    "dS = dx(element_boundary=True)\n",
    "\n",
    "def tang(vec):\n",
    "    return vec - (vec*n)*n\n",
    "\n",
    "Draw (mesh);"
   ]
  },
  {
   "cell_type": "code",
   "execution_count": 10,
   "id": "05c93b6c",
   "metadata": {},
   "outputs": [],
   "source": [
    "# fes = HCurl(mesh, order=1, dirichlet='default')\n",
    "fes = HCurl(mesh, order=1, dirichlet='l|b|r')\n",
    "# fes = HCurl(mesh, order=1)\n",
    "# print(fes.FreeDofs())\n",
    "# Create a coefficient function for the Dirichlet boundary condition\n",
    "# g = (10, 10)\n",
    "# gfu = GridFunction(fes)\n",
    "# gfu.Set(g, BND)\n",
    "# Draw(gfu);\n",
    "\n",
    "mu0 = 4*pi*1e-7\n",
    "c0 = 299792458\n",
    "u, v = fes.TnT()\n",
    "\n",
    "a = BilinearForm((1/y * Grad(u)[1]*Grad(v)[1] + y*Grad(u)[0]*Grad(v)[0])*dx)\n",
    "m = BilinearForm(1/y * u*v*dx)\n",
    "\n",
    "apre = BilinearForm((1/y * Grad(u)[1]*Grad(v)[1] + Grad(u)[0]*Grad(v)[0])*dx + 1/y*u*v*dx).Assemble()\n",
    "pre = Preconditioner(apre, \"direct\", inverse=\"sparsecholesky\")"
   ]
  },
  {
   "cell_type": "code",
   "execution_count": 14,
   "id": "6c231a9a",
   "metadata": {
    "scrolled": false
   },
   "outputs": [
    {
     "ename": "AttributeError",
     "evalue": "'NoneType' object has no attribute 'Assemble'",
     "output_type": "error",
     "traceback": [
      "\u001b[1;31m---------------------------------------------------------------------------\u001b[0m",
      "\u001b[1;31mAttributeError\u001b[0m                            Traceback (most recent call last)",
      "Cell \u001b[1;32mIn[14], line 2\u001b[0m\n\u001b[0;32m      1\u001b[0m \u001b[38;5;66;03m# with scipy\u001b[39;00m\n\u001b[1;32m----> 2\u001b[0m \u001b[43ma\u001b[49m\u001b[38;5;241;43m.\u001b[39;49m\u001b[43mAssemble\u001b[49m()\n\u001b[0;32m      3\u001b[0m m\u001b[38;5;241m.\u001b[39mAssemble()\n\u001b[0;32m      4\u001b[0m a \u001b[38;5;241m=\u001b[39m a\u001b[38;5;241m.\u001b[39mmat\u001b[38;5;241m.\u001b[39mInverse(freedofs\u001b[38;5;241m=\u001b[39mfes\u001b[38;5;241m.\u001b[39mFreeDofs())\u001b[38;5;241m.\u001b[39mInverse()\n",
      "\u001b[1;31mAttributeError\u001b[0m: 'NoneType' object has no attribute 'Assemble'"
     ]
    }
   ],
   "source": [
    "# with scipy\n",
    "a.Assemble()\n",
    "m.Assemble()\n",
    "a = a.mat.Inverse(freedofs=fes.FreeDofs()).Inverse()\n",
    "m = m.mat.Inverse(freedofs=fes.FreeDofs()).Inverse()\n",
    "\n",
    "A = scipy.sparse.csr_matrix(a.mat.CSR())\n",
    "M = scipy.sparse.csr_matrix(m.mat.CSR())\n",
    "print(np.shape(A))\n",
    "\n",
    "plt.rcParams['figure.figsize'] = (12, 12)\n",
    "fig = plt.figure(); ax1 = fig.add_subplot(121); ax2 = fig.add_subplot(122)\n",
    "ax1.set_xlabel(\"A\"); ax1.spy(A)\n",
    "ax2.set_xlabel(\"M\"); ax2.spy(M)\n",
    "plt.show()\n"
   ]
  },
  {
   "cell_type": "code",
   "execution_count": 13,
   "id": "bf412458",
   "metadata": {},
   "outputs": [
    {
     "ename": "AttributeError",
     "evalue": "'NoneType' object has no attribute 'mat'",
     "output_type": "error",
     "traceback": [
      "\u001b[1;31m---------------------------------------------------------------------------\u001b[0m",
      "\u001b[1;31mAttributeError\u001b[0m                            Traceback (most recent call last)",
      "Cell \u001b[1;32mIn[13], line 4\u001b[0m\n\u001b[0;32m      2\u001b[0m m \u001b[38;5;241m=\u001b[39m m\u001b[38;5;241m.\u001b[39mmat\u001b[38;5;241m.\u001b[39mInverse(freedofs\u001b[38;5;241m=\u001b[39mfes\u001b[38;5;241m.\u001b[39mFreeDofs())\u001b[38;5;241m.\u001b[39mInverse()\n\u001b[0;32m      3\u001b[0m \u001b[38;5;66;03m# with scipy\u001b[39;00m\n\u001b[1;32m----> 4\u001b[0m rows,cols,vals \u001b[38;5;241m=\u001b[39m \u001b[43ma\u001b[49m\u001b[38;5;241;43m.\u001b[39;49m\u001b[43mmat\u001b[49m\u001b[38;5;241m.\u001b[39mCOO()\n\u001b[0;32m      5\u001b[0m A \u001b[38;5;241m=\u001b[39m scipy\u001b[38;5;241m.\u001b[39msparse\u001b[38;5;241m.\u001b[39mcsr_matrix((vals,(rows,cols)))\n\u001b[0;32m      6\u001b[0m rows,cols,vals \u001b[38;5;241m=\u001b[39m m\u001b[38;5;241m.\u001b[39mmat\u001b[38;5;241m.\u001b[39mCOO()\n",
      "\u001b[1;31mAttributeError\u001b[0m: 'NoneType' object has no attribute 'mat'"
     ]
    }
   ],
   "source": [
    "\n",
    "\n",
    "# with scipy\n",
    "rows,cols,vals = a.mat.COO()\n",
    "A = scipy.sparse.csr_matrix((vals,(rows,cols)))\n",
    "rows,cols,vals = m.mat.COO()\n",
    "M = scipy.sparse.csr_matrix((vals,(rows,cols)))\n",
    "\n",
    "evls, evecs = scipy.sparse.linalg.eigs(A, M=M, k=50, sigma=0.1, which='LM', maxiter=500, tol=1e-4)\n",
    "# evls, evecs = ispm_iteration(a.mat.COO(), 4, 2, M=m.mat.COO())"
   ]
  },
  {
   "cell_type": "code",
   "execution_count": null,
   "id": "d791fa9d",
   "metadata": {},
   "outputs": [],
   "source": []
  },
  {
   "cell_type": "code",
   "execution_count": null,
   "id": "957af8aa",
   "metadata": {},
   "outputs": [],
   "source": [
    "with TaskManager():\n",
    "    a.Assemble()\n",
    "    m.Assemble()\n",
    "    apre.Assemble()\n",
    "    freedof_matrix = a.mat.CreateSmoother(fes.FreeDofs())\n",
    "\n",
    "    # build gradient matrix as sparse matrix (and corresponding scalar FESpace)\n",
    "    gradmat, fesh1 = fes.CreateGradient()\n",
    "\n",
    "    gradmattrans = gradmat.CreateTranspose() # transpose sparse matrix\n",
    "    math1 = gradmattrans @ m.mat @ gradmat   # multiply matrices\n",
    "    math1[0, 0] += 1     # fix the 1-dim kernel\n",
    "    invh1 = math1.Inverse(inverse=\"sparsecholesky\")\n",
    "\n",
    "    # build the Poisson projector with operator Algebra:\n",
    "    proj = IdentityMatrix() - gradmat @ invh1 @ gradmattrans @ m.mat\n",
    "\n",
    "    projpre = proj @ pre.mat\n",
    "    evals, evecs = solvers.PINVIT(a.mat, m.mat, pre=projpre, num=30, maxit=20, printrates=False);"
   ]
  },
  {
   "cell_type": "code",
   "execution_count": null,
   "id": "b7650349",
   "metadata": {},
   "outputs": [],
   "source": [
    "apre.Assemble()\n",
    "\n",
    "# build gradient matrix as sparse matrix (and corresponding scalar FESpace)\n",
    "gradmat, fesh1 = fes.CreateGradient()\n",
    "\n",
    "gradmattrans = gradmat.CreateTranspose() # transpose sparse matrix\n",
    "math1 = gradmattrans @ m.mat @ gradmat   # multiply matrices\n",
    "math1[0, 0] += 1     # fix the 1-dim kernel\n",
    "invh1 = math1.Inverse(inverse=\"sparsecholesky\")\n",
    "\n",
    "# build the Poisson projector with operator Algebra:\n",
    "proj = IdentityMatrix() - gradmat @ invh1 @ gradmattrans @ m.mat\n",
    "\n",
    "projpre = proj @ pre.mat\n",
    "\n",
    "g = (0, 0)\n",
    "num = 5\n",
    "u = GridFunction(fes, multidim=5)\n",
    "u.Set(g, BND)\n",
    "\n",
    "uvecs = MultiVector(u.vec, num)\n",
    "vecs = MultiVector(u.vec, 2*num)\n",
    "\n",
    "for v in vecs[0:num]:\n",
    "    v.SetRandom()\n",
    "uvecs[:] = pre * vecs[0:num]\n",
    "lams = Vector(num * [1])\n",
    "\n",
    "for i in range(20):\n",
    "    vecs[0:num] = a.mat * uvecs - (m.mat * uvecs).Scale (lams)\n",
    "    vecs[num:2*num] = pre * vecs[0:num]\n",
    "    vecs[0:num] = uvecs\n",
    "\n",
    "    vecs.Orthogonalize() # m.mat)\n",
    "\n",
    "    asmall = InnerProduct (vecs, a.mat*vecs)\n",
    "    msmall = InnerProduct (vecs, m.mat*vecs)\n",
    "\n",
    "    ev,evec = scipy.linalg.eigh(a=asmall, b=msmall)\n",
    "    lams = Vector(ev[0:num])\n",
    "#     print (i, \":\", [l/pi**2 for l in lams])\n",
    "\n",
    "    uvecs[:] = vecs * Matrix(evec[:,0:num])"
   ]
  },
  {
   "cell_type": "code",
   "execution_count": null,
   "id": "16a3e1fd",
   "metadata": {},
   "outputs": [],
   "source": [
    "print (\"Eigenvalues\")\n",
    "freq_fes = []\n",
    "for lam in lams:\n",
    "    freq_fes.append(c0*np.sqrt(lam)/(2*np.pi) * 1e-6)\n",
    "    print (lam, 'freq: ', c0*np.sqrt(lam)/(2*np.pi) * 1e-6, \"MHz\")"
   ]
  },
  {
   "cell_type": "code",
   "execution_count": null,
   "id": "6f9e81d5",
   "metadata": {},
   "outputs": [],
   "source": [
    "print ('freq: ', [c0*np.sqrt(evl)/(2*np.pi) * 1e-6 for evl in lams], \"MHz\")\n",
    "Draw (Norm(u.MDComponent(3)[0]), mesh, order=2);"
   ]
  },
  {
   "cell_type": "code",
   "execution_count": null,
   "id": "51f258d0",
   "metadata": {},
   "outputs": [],
   "source": []
  }
 ],
 "metadata": {
  "kernelspec": {
   "display_name": "Python 3 (ipykernel)",
   "language": "python",
   "name": "python3"
  },
  "language_info": {
   "codemirror_mode": {
    "name": "ipython",
    "version": 3
   },
   "file_extension": ".py",
   "mimetype": "text/x-python",
   "name": "python",
   "nbconvert_exporter": "python",
   "pygments_lexer": "ipython3",
   "version": "3.10.6"
  }
 },
 "nbformat": 4,
 "nbformat_minor": 5
}
