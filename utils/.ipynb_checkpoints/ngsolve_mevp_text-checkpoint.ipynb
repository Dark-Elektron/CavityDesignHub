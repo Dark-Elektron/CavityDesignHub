{
 "cells": [
  {
   "cell_type": "code",
   "execution_count": 46,
   "id": "f65fc324",
   "metadata": {},
   "outputs": [],
   "source": [
    "from ngsolve import *\n",
    "from ngsolve.webgui import Draw\n",
    "from netgen.occ import *\n",
    "from netgen.geom2d import SplineGeometry\n",
    "import pandas as pd\n",
    "import numpy as np\n",
    "import matplotlib.pyplot as plt"
   ]
  },
  {
   "cell_type": "code",
   "execution_count": 69,
   "id": "1a88b987",
   "metadata": {
    "scrolled": false
   },
   "outputs": [
    {
     "data": {
      "application/vnd.jupyter.widget-view+json": {
       "model_id": "943415a9f9c343478a030fcce6a3d306",
       "version_major": 2,
       "version_minor": 0
      },
      "text/plain": [
       "WebGuiWidget(layout=Layout(height='50vh', width='100%'), value={'ngsolve_version': 'Netgen x.x', 'mesh_dim': 3…"
      ]
     },
     "metadata": {},
     "output_type": "display_data"
    }
   ],
   "source": [
    "# define geometry\n",
    "cav_geom = pd.read_csv('D:\\Dropbox\\CavityDesignHub\\PhD_Thesis\\SimulationData\\Multipacting\\C3795_n5\\geodata.n', \n",
    "                       header=None, skiprows=3, skipfooter=1, sep='\\s+', engine='python')[[1, 0]]\n",
    "\n",
    "# # get underside of geometry\n",
    "# cav_geom_flip = cav_geom.copy(deep=True)\n",
    "# cav_geom_flip[0] = -1*cav_geom[0]\n",
    "# cav_geom_flip = cav_geom_flip.iloc[::-1]\n",
    "\n",
    "# # concatenate dataframes\n",
    "# cav_geom = pd.concat([cav_geom, cav_geom_flip])\n",
    "\n",
    "pnts = list(cav_geom.itertuples(index=False, name=None))\n",
    "\n",
    "wp = WorkPlane()\n",
    "wp.MoveTo(*pnts[0])\n",
    "for p in pnts[1:]:\n",
    "  wp.LineTo(*p)\n",
    "wp.Close().Reverse()\n",
    "face = wp.Face()\n",
    "\n",
    "# name the boundaries\n",
    "face.edges.Max(X).name =  \"r\"\n",
    "face.edges.Max(X).col = (1,0,0)\n",
    "face.edges.Min(X).name = \"l\"\n",
    "face.edges.Min(X).col = (1,0,0)\n",
    "face.edges.Min(Y).name = \"b\"\n",
    "face.edges.Min(Y).col = (1,0,0)\n",
    "\n",
    "# for ed in face.edges:\n",
    "#     print(ed.start, ed.end)  # loop over edges in geometry to set name\n",
    "\n",
    "Draw(face)\n",
    "# Draw(face.Revolve(Axis((0,0,0), X), 360))\n",
    "geo = OCCGeometry(face, dim=2)"
   ]
  },
  {
   "cell_type": "code",
   "execution_count": 70,
   "id": "1973c9d1",
   "metadata": {
    "scrolled": false
   },
   "outputs": [
    {
     "data": {
      "application/vnd.jupyter.widget-view+json": {
       "model_id": "a6133cb7a87e4fa7be44e585433efc03",
       "version_major": 2,
       "version_minor": 0
      },
      "text/plain": [
       "WebGuiWidget(layout=Layout(height='50vh', width='100%'), value={'gui_settings': {}, 'ngsolve_version': '6.2.23…"
      ]
     },
     "metadata": {},
     "output_type": "display_data"
    }
   ],
   "source": [
    "ngmesh = geo.GenerateMesh(maxh=0.05)\n",
    "mesh = Mesh(ngmesh)\n",
    "Draw (mesh);"
   ]
  },
  {
   "cell_type": "code",
   "execution_count": 71,
   "id": "16a5f173",
   "metadata": {
    "scrolled": false
   },
   "outputs": [
    {
     "name": "stdout",
     "output_type": "stream",
     "text": [
      "ndof = 106608 FreeDofs 106608\n"
     ]
    }
   ],
   "source": [
    "# fes = HCurl(mesh, order=3, dirichlet='l|b|r')\n",
    "fes = HCurl(mesh, order=3, dirichlet='default')\n",
    "# help(fes)\n",
    "\n",
    "# Create a coefficient function for the Dirichlet boundary condition\n",
    "g = CoefficientFunction((50.0, 50.0))\n",
    "gfu = GridFunction(fes)\n",
    "gfu.Set(g, definedon=mesh.Boundaries(\"default\"))\n",
    "# help(BilinearForm)\n",
    "\n",
    "print (\"ndof =\", fes.ndof, \"FreeDofs\", len(fes.FreeDofs()))\n",
    "mu0 = 4*pi*1e-7\n",
    "c0 = 299792458\n",
    "u, v = fes.TnT()\n",
    "\n",
    "a = BilinearForm(y*curl(u)*curl(v)*dx)\n",
    "m = BilinearForm(y*u*v*dx)\n",
    "# help(BilinearForm)\n",
    "\n",
    "apre = BilinearForm(y*curl(u)*curl(v)*dx + y*u*v*dx)\n",
    "pre = Preconditioner(apre, \"direct\", inverse=\"sparsecholesky\")"
   ]
  },
  {
   "cell_type": "code",
   "execution_count": 72,
   "id": "2aa9f7ad",
   "metadata": {},
   "outputs": [
    {
     "name": "stdout",
     "output_type": "stream",
     "text": [
      "0 : [3004.751305115576, 3151.741226027256, 3434.156071431411, 5141.297007695077, 5398.560955752895]\n",
      "1 : [1081.1563105738169, 1089.6942790208277, 1141.6185256885003, 1929.225235148439, 2348.0756618620826]\n",
      "2 : [1033.279074755612, 1036.4816125111254, 1088.9617169209407, 1140.8666404360797, 2313.288062141516]\n",
      "3 : [1029.4710176293195, 1033.3771058144139, 1086.148784871394, 1095.7154760068897, 2241.2932918941797]\n",
      "4 : [1029.1944073160312, 1032.3465598018122, 1085.9104445662513, 1094.0341253859556, 1569.383973950654]\n",
      "5 : [1029.1732228906028, 1030.411586358238, 1085.8884357053441, 1093.7798274704683, 1134.9140436802006]\n",
      "6 : [1029.171526351955, 1029.3076806272436, 1085.885104758145, 1092.3817557839795, 1097.7513223338692]\n",
      "7 : [1029.1713636728648, 1029.1814383885062, 1085.8841499363841, 1091.0650175073629, 1095.9605526631285]\n",
      "8 : [1029.1710883806754, 1029.1722509369497, 1085.8840349129612, 1090.912118208617, 1095.8535504467643]\n",
      "9 : [1029.1708128111493, 1029.1718254814473, 1085.8840244935673, 1090.8986001805138, 1095.8445030229448]\n",
      "10 : [1029.1707808685446, 1029.171801507458, 1085.8840235188793, 1090.8973347250787, 1095.8436502251263]\n",
      "11 : [1029.1707781809157, 1029.171799610056, 1085.884023425787, 1090.8972130304692, 1095.8435672622018]\n",
      "12 : [1029.1707779557905, 1029.1717994521764, 1085.884023416762, 1090.897201103275, 1095.8435590318668]\n",
      "13 : [1029.17077793663, 1029.1717994387723, 1085.8840234158802, 1090.8971999133018, 1095.843558200703]\n",
      "14 : [1029.170777934968, 1029.1717994376052, 1085.8840234157888, 1090.8971997920603, 1095.8435581149504]\n",
      "15 : [1029.1707779348233, 1029.1717994375074, 1085.884023415776, 1090.8971997795315, 1095.8435581059832]\n",
      "16 : [1029.1707779348098, 1029.1717994374947, 1085.8840234157728, 1090.8971997782348, 1095.8435581050435]\n",
      "17 : [1029.1707779348078, 1029.1717994374949, 1085.8840234157763, 1090.8971997780925, 1095.8435581049423]\n",
      "18 : [1029.1707779348078, 1029.1717994374958, 1085.8840234157728, 1090.8971997780811, 1095.84355810493]\n",
      "19 : [1029.1707779348083, 1029.1717994374976, 1085.8840234157758, 1090.897199778077, 1095.8435581049305]\n"
     ]
    }
   ],
   "source": [
    "with TaskManager():\n",
    "    a.Assemble()\n",
    "    m.Assemble()\n",
    "    apre.Assemble()\n",
    "\n",
    "    # build gradient matrix as sparse matrix (and corresponding scalar FESpace)\n",
    "    gradmat, fesh1 = fes.CreateGradient()\n",
    "\n",
    "\n",
    "    gradmattrans = gradmat.CreateTranspose() # transpose sparse matrix\n",
    "    math1 = gradmattrans @ m.mat @ gradmat   # multiply matrices\n",
    "    math1[0, 0] += 1     # fix the 1-dim kernel\n",
    "    invh1 = math1.Inverse(inverse=\"sparsecholesky\")\n",
    "\n",
    "    # build the Poisson projector with operator Algebra:\n",
    "    proj = IdentityMatrix() - gradmat @ invh1 @ gradmattrans @ m.mat\n",
    "\n",
    "    projpre = proj @ pre.mat\n",
    "\n",
    "    evals, evecs = solvers.PINVIT(a.mat, m.mat, pre=projpre, num=5, maxit=20);"
   ]
  },
  {
   "cell_type": "code",
   "execution_count": 51,
   "id": "a7c722d9",
   "metadata": {},
   "outputs": [
    {
     "name": "stdout",
     "output_type": "stream",
     "text": [
      "Eigenvalues\n",
      "1029.170777934203 freq:  1530.6805289783013 MHz\n",
      "1029.1717993620432 freq:  1530.681288560361 MHz\n",
      "1085.8840234152651 freq:  1572.2896525284375 MHz\n",
      "1090.897199754703 freq:  1575.9148503859537 MHz\n",
      "1095.843557957787 freq:  1579.4835749351466 MHz\n"
     ]
    }
   ],
   "source": [
    "print (\"Eigenvalues\")\n",
    "for lam in evals:\n",
    "    print (lam, 'freq: ', c0*np.sqrt(lam)/(2*np.pi) * 1e-6, \"MHz\")"
   ]
  },
  {
   "cell_type": "code",
   "execution_count": 52,
   "id": "f0f7adb1",
   "metadata": {
    "scrolled": true
   },
   "outputs": [
    {
     "data": {
      "application/vnd.jupyter.widget-view+json": {
       "model_id": "0bff1cc7bcd04b79bf3c2c6bae3724c7",
       "version_major": 2,
       "version_minor": 0
      },
      "text/plain": [
       "WebGuiWidget(layout=Layout(height='50vh', width='100%'), value={'gui_settings': {}, 'ngsolve_version': '6.2.23…"
      ]
     },
     "metadata": {},
     "output_type": "display_data"
    }
   ],
   "source": [
    "gfu = GridFunction(fes, multidim=len(evecs))\n",
    "# print(evecs[i])\n",
    "for i in range(len(evecs)):\n",
    "    gfu.vecs[i].data = evecs[i]\n",
    "# help(gfu.MDComponent(4)[0])\n",
    "Draw (Norm(gfu.MDComponent(4)[0]), mesh, order=2);"
   ]
  },
  {
   "cell_type": "code",
   "execution_count": 65,
   "id": "46a9f255",
   "metadata": {},
   "outputs": [
    {
     "ename": "TypeError",
     "evalue": "__call__(): incompatible function arguments. The following argument types are supported:\n    1. (self: ngsolve.comp.Mesh, x: numpy.ndarray[numpy.float64] = 0.0, y: numpy.ndarray[numpy.float64] = 0.0, z: numpy.ndarray[numpy.float64] = 0.0, VOL_or_BND: ngsolve.comp.VorB = <VorB.VOL: 0>) -> object\n\nInvoked with: <ngsolve.comp.Mesh object at 0x00000211DD6971F0>, <netgen.libngpy._NgOCC.Edge object at 0x00000211DD7CF470>",
     "output_type": "error",
     "traceback": [
      "\u001b[1;31m---------------------------------------------------------------------------\u001b[0m",
      "\u001b[1;31mTypeError\u001b[0m                                 Traceback (most recent call last)",
      "Cell \u001b[1;32mIn[65], line 3\u001b[0m\n\u001b[0;32m      1\u001b[0m u \u001b[38;5;241m=\u001b[39m gfu\u001b[38;5;241m.\u001b[39mvecs[\u001b[38;5;241m0\u001b[39m]  \u001b[38;5;66;03m# Represents the electric field E\u001b[39;00m\n\u001b[1;32m----> 3\u001b[0m integrator \u001b[38;5;241m=\u001b[39m Integrate(u, \u001b[43mmesh\u001b[49m\u001b[43m(\u001b[49m\u001b[43mface\u001b[49m\u001b[38;5;241;43m.\u001b[39;49m\u001b[43medges\u001b[49m\u001b[38;5;241;43m.\u001b[39;49m\u001b[43mMin\u001b[49m\u001b[43m(\u001b[49m\u001b[43mY\u001b[49m\u001b[43m)\u001b[49m\u001b[43m)\u001b[49m, BND, definedon\u001b[38;5;241m=\u001b[39mdomain)\n\u001b[0;32m      6\u001b[0m \u001b[38;5;66;03m# 'result' contains the integrated value, related to the electric field\u001b[39;00m\n\u001b[0;32m      7\u001b[0m \u001b[38;5;28mprint\u001b[39m(\u001b[38;5;124m\"\u001b[39m\u001b[38;5;124mIntegral of electric field along the line:\u001b[39m\u001b[38;5;124m\"\u001b[39m, result)\n",
      "\u001b[1;31mTypeError\u001b[0m: __call__(): incompatible function arguments. The following argument types are supported:\n    1. (self: ngsolve.comp.Mesh, x: numpy.ndarray[numpy.float64] = 0.0, y: numpy.ndarray[numpy.float64] = 0.0, z: numpy.ndarray[numpy.float64] = 0.0, VOL_or_BND: ngsolve.comp.VorB = <VorB.VOL: 0>) -> object\n\nInvoked with: <ngsolve.comp.Mesh object at 0x00000211DD6971F0>, <netgen.libngpy._NgOCC.Edge object at 0x00000211DD7CF470>"
     ]
    }
   ],
   "source": [
    "u = gfu.vecs[0]  # Represents the electric field E\n",
    "\n",
    "integrator = Integrate(u, mesh(face.edges.Min(Y)), BND, definedon=domain)\n",
    "\n",
    "\n",
    "# 'result' contains the integrated value, related to the electric field\n",
    "print(\"Integral of electric field along the line:\", result)"
   ]
  },
  {
   "cell_type": "code",
   "execution_count": null,
   "id": "184cb579",
   "metadata": {
    "scrolled": false
   },
   "outputs": [],
   "source": [
    "from ngsolve import *\n",
    "from ngsolve.webgui import Draw\n",
    "from netgen.occ import *   # Opencascade for geometry modeling"
   ]
  },
  {
   "cell_type": "code",
   "execution_count": null,
   "id": "c72b3b7f",
   "metadata": {},
   "outputs": [],
   "source": [
    "mesh = Mesh(unit_square.GenerateMesh(maxh=0.2))\n",
    "mesh.GetBoundaries()"
   ]
  },
  {
   "cell_type": "code",
   "execution_count": null,
   "id": "77dde0b4",
   "metadata": {},
   "outputs": [],
   "source": [
    "fes = H1(mesh, order=2, dirichlet=\"left|right\")"
   ]
  },
  {
   "cell_type": "code",
   "execution_count": null,
   "id": "66d40fb1",
   "metadata": {},
   "outputs": [],
   "source": [
    "print (\"ndof =\", fes.ndof, \"FreeDofs\", len(fes.FreeDofs()))\n",
    "print(\"free dofs of fes:\\n\", fes.FreeDofs())"
   ]
  }
 ],
 "metadata": {
  "kernelspec": {
   "display_name": "Python 3 (ipykernel)",
   "language": "python",
   "name": "python3"
  },
  "language_info": {
   "codemirror_mode": {
    "name": "ipython",
    "version": 3
   },
   "file_extension": ".py",
   "mimetype": "text/x-python",
   "name": "python",
   "nbconvert_exporter": "python",
   "pygments_lexer": "ipython3",
   "version": "3.10.6"
  }
 },
 "nbformat": 4,
 "nbformat_minor": 5
}
