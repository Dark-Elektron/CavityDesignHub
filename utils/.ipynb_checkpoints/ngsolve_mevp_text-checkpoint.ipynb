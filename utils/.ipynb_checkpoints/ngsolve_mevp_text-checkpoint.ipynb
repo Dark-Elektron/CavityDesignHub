{
 "cells": [
  {
   "cell_type": "code",
   "execution_count": 1,
   "id": "f65fc324",
   "metadata": {},
   "outputs": [],
   "source": [
    "from ngsolve import *\n",
    "from ngsolve.webgui import Draw\n",
    "from netgen.occ import *\n",
    "from netgen.geom2d import SplineGeometry\n",
    "import pandas as pd\n",
    "import numpy as np\n",
    "import matplotlib.pyplot as plt"
   ]
  },
  {
   "cell_type": "code",
   "execution_count": 2,
   "id": "1a88b987",
   "metadata": {},
   "outputs": [
    {
     "data": {
      "image/png": "[encoded data removed]",
      "text/plain": [
       "<Figure size 640x480 with 1 Axes>"
      ]
     },
     "metadata": {},
     "output_type": "display_data"
    }
   ],
   "source": [
    "# define geometry\n",
    "\n",
    "geo = SplineGeometry()\n",
    "# get cavity geometry\n",
    "# cav_geom = pd.read_csv('D:\\Dropbox\\multipacting\\MPGUI21\\mid_TESLA\\geodata.n', \n",
    "#                        header=None, skiprows=3, skipfooter=1, sep='\\s+', engine='python')[[1, 0]]\n",
    "cav_geom = pd.read_csv('D:\\Dropbox\\CavityDesignHub\\PhD_Thesis\\SimulationData\\Multipacting\\C3795_n5\\geodata.n', \n",
    "                       header=None, skiprows=4, skipfooter=2, sep='\\s+', engine='python')[[1, 0]]\n",
    "\n",
    "# get underside of geometry\n",
    "cav_geom_flip = cav_geom.copy(deep=True)\n",
    "cav_geom_flip[0] = -1*cav_geom[0]\n",
    "cav_geom_flip = cav_geom_flip.iloc[::-1]\n",
    "\n",
    "# concatenate dataframes\n",
    "cav_geom = pd.concat([cav_geom, cav_geom_flip])\n",
    "\n",
    "plt.plot(cav_geom[1], cav_geom[0])\n",
    "plt.axis('equal')\n",
    "\n",
    "# points have to be defined anticlockwise\n",
    "cav_geom = cav_geom.iloc[::-1]\n",
    "\n",
    "pnts = list(cav_geom.itertuples(index=False, name=None))\n",
    "pts = [geo.AppendPoint(*pnt) for pnt in pnts]\n",
    "\n",
    "curves = []\n",
    "for count in range(1, len(pts)):\n",
    "    curves.append([[\"line\", pts[count-1], pts[count]], f\"l{count}\"])\n",
    "    \n",
    "    # add last point to first\n",
    "    if count+1 == len(pts):\n",
    "        curves.append([[\"line\", pts[count], pts[0]], f\"l{0}\"])\n",
    "\n",
    "[geo.Append(c) for c, bc in curves];"
   ]
  },
  {
   "cell_type": "code",
   "execution_count": 15,
   "id": "1973c9d1",
   "metadata": {},
   "outputs": [],
   "source": [
    "ngmesh = geo.GenerateMesh(maxh=0.01)"
   ]
  },
  {
   "cell_type": "code",
   "execution_count": 16,
   "id": "83dec749",
   "metadata": {},
   "outputs": [
    {
     "data": {
      "application/vnd.jupyter.widget-view+json": {
       "model_id": "cbbde4be2a6f450894ce49b1c2d80edd",
       "version_major": 2,
       "version_minor": 0
      },
      "text/plain": [
       "WebGuiWidget(layout=Layout(height='50vh', width='100%'), value={'gui_settings': {}, 'ngsolve_version': '6.2.23…"
      ]
     },
     "metadata": {},
     "output_type": "display_data"
    }
   ],
   "source": [
    "mesh = Mesh(ngmesh)\n",
    "Draw (mesh);"
   ]
  },
  {
   "cell_type": "code",
   "execution_count": 17,
   "id": "16a5f173",
   "metadata": {},
   "outputs": [
    {
     "name": "stdout",
     "output_type": "stream",
     "text": [
      "ndof = 245372\n"
     ]
    }
   ],
   "source": [
    "# SetHeapSize(100*1000*1000)\n",
    "\n",
    "fes = HCurl(mesh, order=3)\n",
    "print (\"ndof =\", fes.ndof)\n",
    "mu0 = 4*pi*1e-7\n",
    "c0 = 299792458\n",
    "u,v = fes.TnT()\n",
    "\n",
    "a = BilinearForm(curl(u)*curl(v)*dx)\n",
    "m = BilinearForm(u*v*dx)\n",
    "\n",
    "apre = BilinearForm(curl(u)*curl(v)*dx + u*v*dx)\n",
    "pre = Preconditioner(apre, \"direct\", inverse=\"sparsecholesky\")"
   ]
  },
  {
   "cell_type": "code",
   "execution_count": 18,
   "id": "7cd0bceb",
   "metadata": {},
   "outputs": [
    {
     "name": "stdout",
     "output_type": "stream",
     "text": [
      "0 : [298.7161461910174, 388.76743354653394, 404.37207609409506, 486.4943460650325, 577.4780904902733]\n",
      "1 : [273.55192157523, 302.22259024713804, 317.2091354942293, 406.6285609691073, 424.5631409183304]\n",
      "2 : [272.41953058157173, 285.6982239861282, 311.58918904526973, 371.37723390719566, 415.2139897079566]\n",
      "3 : [272.25553458435587, 283.4867497778551, 311.24520056644684, 361.69216630256193, 412.967498129956]\n",
      "4 : [272.2243437650828, 283.11545705712115, 311.2093353339732, 358.0345394896811, 411.7529569256126]\n",
      "5 : [272.21891086103557, 283.05108622843005, 311.20418357689175, 356.5912025179606, 410.99090332197255]\n",
      "6 : [272.21796707422453, 283.0391141173846, 311.2032344746984, 356.0104316610646, 410.4852680666112]\n",
      "7 : [272.2178041049702, 283.03687485726846, 311.2030295089374, 355.77484532622884, 410.14700497092986]\n",
      "8 : [272.21777582729425, 283.0364494095811, 311.2029811558664, 355.6789495092546, 409.9192480409073]\n",
      "9 : [272.2177709034418, 283.0363683891711, 311.2029692085806, 355.63969010540967, 409.7657043077406]\n",
      "10 : [272.2177700421311, 283.0363528540739, 311.2029661830171, 355.62358166403476, 409.66199380079837]\n",
      "11 : [272.21776989093445, 283.0363498711451, 311.2029654067136, 355.6169451806687, 409.59185410952966]\n",
      "12 : [272.21776986430683, 283.0363492962984, 311.20296520594025, 355.61420693932354, 409.54436213224983]\n",
      "13 : [272.21776985960435, 283.0363491853913, 311.2029651537528, 355.6130737310344, 409.51215506507293]\n",
      "14 : [272.2177698587718, 283.03634916394486, 311.2029651401381, 355.6126042365641, 409.4902915183448]\n",
      "15 : [272.2177698586233, 283.03634915979336, 311.2029651365764, 355.6124092722735, 409.4754257839562]\n",
      "16 : [272.21776985859714, 283.03634915898846, 311.202965135641, 355.6123282367814, 409.46530863186683]\n",
      "17 : [272.2177698585932, 283.0363491588319, 311.20296513539614, 355.61229449267756, 409.4584126930922]\n",
      "18 : [272.2177698585915, 283.0363491588008, 311.2029651353314, 355.6122804301381, 409.4537082062107]\n",
      "19 : [272.21776985859145, 283.0363491587954, 311.20296513531383, 355.6122745608049, 409.4504942265217]\n"
     ]
    }
   ],
   "source": [
    "with TaskManager():\n",
    "    a.Assemble()\n",
    "    m.Assemble()\n",
    "    apre.Assemble()\n",
    "\n",
    "    # build gradient matrix as sparse matrix (and corresponding scalar FESpace)\n",
    "    gradmat, fesh1 = fes.CreateGradient()\n",
    "\n",
    "\n",
    "    gradmattrans = gradmat.CreateTranspose() # transpose sparse matrix\n",
    "    math1 = gradmattrans @ m.mat @ gradmat   # multiply matrices\n",
    "    math1[0,0] += 1     # fix the 1-dim kernel\n",
    "    invh1 = math1.Inverse(inverse=\"sparsecholesky\")\n",
    "\n",
    "    # build the Poisson projector with operator Algebra:\n",
    "    proj = IdentityMatrix() - gradmat @ invh1 @ gradmattrans @ m.mat\n",
    "\n",
    "    projpre = proj @ pre.mat\n",
    "\n",
    "    evals, evecs = solvers.PINVIT(a.mat, m.mat, pre=projpre, num=5, maxit=20);"
   ]
  },
  {
   "cell_type": "code",
   "execution_count": 24,
   "id": "dea95e34",
   "metadata": {},
   "outputs": [
    {
     "name": "stderr",
     "output_type": "stream",
     "text": [
      "IOPub data rate exceeded.\n",
      "The notebook server will temporarily stop sending output\n",
      "to the client in order to avoid crashing it.\n",
      "To change this limit, set the config variable\n",
      "`--NotebookApp.iopub_data_rate_limit`.\n",
      "\n",
      "Current values:\n",
      "NotebookApp.iopub_data_rate_limit=1000000.0 (bytes/sec)\n",
      "NotebookApp.rate_limit_window=3.0 (secs)\n",
      "\n"
     ]
    }
   ],
   "source": [
    "print (\"Eigenvalues\")\n",
    "for lam in evals:\n",
    "    print (lam, 'freq: ', c0*np.sqrt(lam)/(2*np.pi) * 1e-6, \"MHz\")\n",
    "\n",
    "print(evecs[0])"
   ]
  },
  {
   "cell_type": "code",
   "execution_count": 20,
   "id": "6e2c7c1a",
   "metadata": {},
   "outputs": [
    {
     "data": {
      "application/vnd.jupyter.widget-view+json": {
       "model_id": "b6fae5015b2748718e5c56bb84c02100",
       "version_major": 2,
       "version_minor": 0
      },
      "text/plain": [
       "WebGuiWidget(layout=Layout(height='50vh', width='100%'), value={'gui_settings': {}, 'ngsolve_version': '6.2.23…"
      ]
     },
     "metadata": {},
     "output_type": "display_data"
    }
   ],
   "source": [
    "gfu = GridFunction(fes, multidim=len(evecs))\n",
    "for i in rnge(len(evecs)):\n",
    "    gfu.vecs[i].data = evecs[i]\n",
    "    \n",
    "Draw (Norm(gfu), mesh, order=2);"
   ]
  },
  {
   "cell_type": "code",
   "execution_count": null,
   "id": "9345ca45",
   "metadata": {},
   "outputs": [],
   "source": []
  }
 ],
 "metadata": {
  "kernelspec": {
   "display_name": "Python 3 (ipykernel)",
   "language": "python",
   "name": "python3"
  },
  "language_info": {
   "codemirror_mode": {
    "name": "ipython",
    "version": 3
   },
   "file_extension": ".py",
   "mimetype": "text/x-python",
   "name": "python",
   "nbconvert_exporter": "python",
   "pygments_lexer": "ipython3",
   "version": "3.10.6"
  }
 },
 "nbformat": 4,
 "nbformat_minor": 5
}
